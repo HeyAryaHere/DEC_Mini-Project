{
 "cells": [
  {
   "cell_type": "code",
   "execution_count": 16,
   "outputs": [],
   "source": [
    "#Importing library\n",
    "\n",
    "import pandas as pd\n",
    "import numpy as np\n",
    "import seaborn as sns\n",
    "import matplotlib.pyplot as plt\n",
    "from sklearn.preprocessing import LabelEncoder,MinMaxScaler"
   ],
   "metadata": {
    "collapsed": false,
    "ExecuteTime": {
     "start_time": "2023-04-28T12:00:50.879483Z",
     "end_time": "2023-04-28T12:00:51.587821Z"
    }
   }
  },
  {
   "cell_type": "code",
   "execution_count": 3,
   "outputs": [],
   "source": [
    "#Importing file\n",
    "\n",
    "data = pd.read_csv('online_retail.csv')"
   ],
   "metadata": {
    "collapsed": false,
    "ExecuteTime": {
     "start_time": "2023-04-28T11:45:34.598344Z",
     "end_time": "2023-04-28T11:45:35.580322Z"
    }
   }
  },
  {
   "cell_type": "code",
   "execution_count": 4,
   "outputs": [
    {
     "data": {
      "text/plain": "  InvoiceNo StockCode                          Description  Quantity  \\\n0    536365    85123A   WHITE HANGING HEART T-LIGHT HOLDER         6   \n1    536365     71053                  WHITE METAL LANTERN         6   \n2    536365    84406B       CREAM CUPID HEARTS COAT HANGER         8   \n3    536365    84029G  KNITTED UNION FLAG HOT WATER BOTTLE         6   \n4    536365    84029E       RED WOOLLY HOTTIE WHITE HEART.         6   \n\n        InvoiceDate  UnitPrice  CustomerID         Country  \n0  01-12-2010 08:26       2.55     17850.0  United Kingdom  \n1  01-12-2010 08:26       3.39     17850.0  United Kingdom  \n2  01-12-2010 08:26       2.75     17850.0  United Kingdom  \n3  01-12-2010 08:26       3.39     17850.0  United Kingdom  \n4  01-12-2010 08:26       3.39     17850.0  United Kingdom  ",
      "text/html": "<div>\n<style scoped>\n    .dataframe tbody tr th:only-of-type {\n        vertical-align: middle;\n    }\n\n    .dataframe tbody tr th {\n        vertical-align: top;\n    }\n\n    .dataframe thead th {\n        text-align: right;\n    }\n</style>\n<table border=\"1\" class=\"dataframe\">\n  <thead>\n    <tr style=\"text-align: right;\">\n      <th></th>\n      <th>InvoiceNo</th>\n      <th>StockCode</th>\n      <th>Description</th>\n      <th>Quantity</th>\n      <th>InvoiceDate</th>\n      <th>UnitPrice</th>\n      <th>CustomerID</th>\n      <th>Country</th>\n    </tr>\n  </thead>\n  <tbody>\n    <tr>\n      <th>0</th>\n      <td>536365</td>\n      <td>85123A</td>\n      <td>WHITE HANGING HEART T-LIGHT HOLDER</td>\n      <td>6</td>\n      <td>01-12-2010 08:26</td>\n      <td>2.55</td>\n      <td>17850.0</td>\n      <td>United Kingdom</td>\n    </tr>\n    <tr>\n      <th>1</th>\n      <td>536365</td>\n      <td>71053</td>\n      <td>WHITE METAL LANTERN</td>\n      <td>6</td>\n      <td>01-12-2010 08:26</td>\n      <td>3.39</td>\n      <td>17850.0</td>\n      <td>United Kingdom</td>\n    </tr>\n    <tr>\n      <th>2</th>\n      <td>536365</td>\n      <td>84406B</td>\n      <td>CREAM CUPID HEARTS COAT HANGER</td>\n      <td>8</td>\n      <td>01-12-2010 08:26</td>\n      <td>2.75</td>\n      <td>17850.0</td>\n      <td>United Kingdom</td>\n    </tr>\n    <tr>\n      <th>3</th>\n      <td>536365</td>\n      <td>84029G</td>\n      <td>KNITTED UNION FLAG HOT WATER BOTTLE</td>\n      <td>6</td>\n      <td>01-12-2010 08:26</td>\n      <td>3.39</td>\n      <td>17850.0</td>\n      <td>United Kingdom</td>\n    </tr>\n    <tr>\n      <th>4</th>\n      <td>536365</td>\n      <td>84029E</td>\n      <td>RED WOOLLY HOTTIE WHITE HEART.</td>\n      <td>6</td>\n      <td>01-12-2010 08:26</td>\n      <td>3.39</td>\n      <td>17850.0</td>\n      <td>United Kingdom</td>\n    </tr>\n  </tbody>\n</table>\n</div>"
     },
     "execution_count": 4,
     "metadata": {},
     "output_type": "execute_result"
    }
   ],
   "source": [
    "data.head()"
   ],
   "metadata": {
    "collapsed": false,
    "ExecuteTime": {
     "start_time": "2023-04-28T11:45:41.858654Z",
     "end_time": "2023-04-28T11:45:41.873583Z"
    }
   }
  },
  {
   "cell_type": "code",
   "execution_count": 20,
   "outputs": [
    {
     "data": {
      "text/plain": "InvoiceNo              object\nStockCode              object\nDescription            object\nQuantity                int64\nInvoiceDate    datetime64[ns]\nUnitPrice             float64\nCustomerID            float64\nCountry                 int32\ndtype: object"
     },
     "execution_count": 20,
     "metadata": {},
     "output_type": "execute_result"
    }
   ],
   "source": [
    "data.dtypes"
   ],
   "metadata": {
    "collapsed": false,
    "ExecuteTime": {
     "start_time": "2023-04-28T12:03:56.690835Z",
     "end_time": "2023-04-28T12:03:56.707941Z"
    }
   }
  },
  {
   "cell_type": "markdown",
   "source": [
    "Encoding"
   ],
   "metadata": {
    "collapsed": false
   }
  },
  {
   "cell_type": "code",
   "execution_count": 14,
   "outputs": [],
   "source": [
    "data['InvoiceDate'] = pd.to_datetime(data['InvoiceDate'])\n",
    "df = data.set_index('InvoiceDate')"
   ],
   "metadata": {
    "collapsed": false,
    "ExecuteTime": {
     "start_time": "2023-04-28T11:53:10.989242Z",
     "end_time": "2023-04-28T11:53:14.647802Z"
    }
   }
  },
  {
   "cell_type": "code",
   "execution_count": 15,
   "outputs": [
    {
     "data": {
      "text/plain": "  InvoiceNo StockCode                          Description  Quantity  \\\n0    536365    85123A   WHITE HANGING HEART T-LIGHT HOLDER         6   \n1    536365     71053                  WHITE METAL LANTERN         6   \n2    536365    84406B       CREAM CUPID HEARTS COAT HANGER         8   \n3    536365    84029G  KNITTED UNION FLAG HOT WATER BOTTLE         6   \n4    536365    84029E       RED WOOLLY HOTTIE WHITE HEART.         6   \n\n          InvoiceDate  UnitPrice  CustomerID         Country  \n0 2010-01-12 08:26:00       2.55     17850.0  United Kingdom  \n1 2010-01-12 08:26:00       3.39     17850.0  United Kingdom  \n2 2010-01-12 08:26:00       2.75     17850.0  United Kingdom  \n3 2010-01-12 08:26:00       3.39     17850.0  United Kingdom  \n4 2010-01-12 08:26:00       3.39     17850.0  United Kingdom  ",
      "text/html": "<div>\n<style scoped>\n    .dataframe tbody tr th:only-of-type {\n        vertical-align: middle;\n    }\n\n    .dataframe tbody tr th {\n        vertical-align: top;\n    }\n\n    .dataframe thead th {\n        text-align: right;\n    }\n</style>\n<table border=\"1\" class=\"dataframe\">\n  <thead>\n    <tr style=\"text-align: right;\">\n      <th></th>\n      <th>InvoiceNo</th>\n      <th>StockCode</th>\n      <th>Description</th>\n      <th>Quantity</th>\n      <th>InvoiceDate</th>\n      <th>UnitPrice</th>\n      <th>CustomerID</th>\n      <th>Country</th>\n    </tr>\n  </thead>\n  <tbody>\n    <tr>\n      <th>0</th>\n      <td>536365</td>\n      <td>85123A</td>\n      <td>WHITE HANGING HEART T-LIGHT HOLDER</td>\n      <td>6</td>\n      <td>2010-01-12 08:26:00</td>\n      <td>2.55</td>\n      <td>17850.0</td>\n      <td>United Kingdom</td>\n    </tr>\n    <tr>\n      <th>1</th>\n      <td>536365</td>\n      <td>71053</td>\n      <td>WHITE METAL LANTERN</td>\n      <td>6</td>\n      <td>2010-01-12 08:26:00</td>\n      <td>3.39</td>\n      <td>17850.0</td>\n      <td>United Kingdom</td>\n    </tr>\n    <tr>\n      <th>2</th>\n      <td>536365</td>\n      <td>84406B</td>\n      <td>CREAM CUPID HEARTS COAT HANGER</td>\n      <td>8</td>\n      <td>2010-01-12 08:26:00</td>\n      <td>2.75</td>\n      <td>17850.0</td>\n      <td>United Kingdom</td>\n    </tr>\n    <tr>\n      <th>3</th>\n      <td>536365</td>\n      <td>84029G</td>\n      <td>KNITTED UNION FLAG HOT WATER BOTTLE</td>\n      <td>6</td>\n      <td>2010-01-12 08:26:00</td>\n      <td>3.39</td>\n      <td>17850.0</td>\n      <td>United Kingdom</td>\n    </tr>\n    <tr>\n      <th>4</th>\n      <td>536365</td>\n      <td>84029E</td>\n      <td>RED WOOLLY HOTTIE WHITE HEART.</td>\n      <td>6</td>\n      <td>2010-01-12 08:26:00</td>\n      <td>3.39</td>\n      <td>17850.0</td>\n      <td>United Kingdom</td>\n    </tr>\n  </tbody>\n</table>\n</div>"
     },
     "execution_count": 15,
     "metadata": {},
     "output_type": "execute_result"
    }
   ],
   "source": [
    "data.head()"
   ],
   "metadata": {
    "collapsed": false,
    "ExecuteTime": {
     "start_time": "2023-04-28T11:53:48.776669Z",
     "end_time": "2023-04-28T11:53:48.852151Z"
    }
   }
  },
  {
   "cell_type": "code",
   "execution_count": 17,
   "outputs": [],
   "source": [
    "encode_country = LabelEncoder()\n",
    "data['Country'] = encode_country.fit_transform(data['Country'])"
   ],
   "metadata": {
    "collapsed": false,
    "ExecuteTime": {
     "start_time": "2023-04-28T12:01:41.178864Z",
     "end_time": "2023-04-28T12:01:41.393818Z"
    }
   }
  },
  {
   "cell_type": "code",
   "execution_count": 18,
   "outputs": [
    {
     "data": {
      "text/plain": "  InvoiceNo StockCode                          Description  Quantity  \\\n0    536365    85123A   WHITE HANGING HEART T-LIGHT HOLDER         6   \n1    536365     71053                  WHITE METAL LANTERN         6   \n2    536365    84406B       CREAM CUPID HEARTS COAT HANGER         8   \n3    536365    84029G  KNITTED UNION FLAG HOT WATER BOTTLE         6   \n4    536365    84029E       RED WOOLLY HOTTIE WHITE HEART.         6   \n\n          InvoiceDate  UnitPrice  CustomerID  Country  \n0 2010-01-12 08:26:00       2.55     17850.0       36  \n1 2010-01-12 08:26:00       3.39     17850.0       36  \n2 2010-01-12 08:26:00       2.75     17850.0       36  \n3 2010-01-12 08:26:00       3.39     17850.0       36  \n4 2010-01-12 08:26:00       3.39     17850.0       36  ",
      "text/html": "<div>\n<style scoped>\n    .dataframe tbody tr th:only-of-type {\n        vertical-align: middle;\n    }\n\n    .dataframe tbody tr th {\n        vertical-align: top;\n    }\n\n    .dataframe thead th {\n        text-align: right;\n    }\n</style>\n<table border=\"1\" class=\"dataframe\">\n  <thead>\n    <tr style=\"text-align: right;\">\n      <th></th>\n      <th>InvoiceNo</th>\n      <th>StockCode</th>\n      <th>Description</th>\n      <th>Quantity</th>\n      <th>InvoiceDate</th>\n      <th>UnitPrice</th>\n      <th>CustomerID</th>\n      <th>Country</th>\n    </tr>\n  </thead>\n  <tbody>\n    <tr>\n      <th>0</th>\n      <td>536365</td>\n      <td>85123A</td>\n      <td>WHITE HANGING HEART T-LIGHT HOLDER</td>\n      <td>6</td>\n      <td>2010-01-12 08:26:00</td>\n      <td>2.55</td>\n      <td>17850.0</td>\n      <td>36</td>\n    </tr>\n    <tr>\n      <th>1</th>\n      <td>536365</td>\n      <td>71053</td>\n      <td>WHITE METAL LANTERN</td>\n      <td>6</td>\n      <td>2010-01-12 08:26:00</td>\n      <td>3.39</td>\n      <td>17850.0</td>\n      <td>36</td>\n    </tr>\n    <tr>\n      <th>2</th>\n      <td>536365</td>\n      <td>84406B</td>\n      <td>CREAM CUPID HEARTS COAT HANGER</td>\n      <td>8</td>\n      <td>2010-01-12 08:26:00</td>\n      <td>2.75</td>\n      <td>17850.0</td>\n      <td>36</td>\n    </tr>\n    <tr>\n      <th>3</th>\n      <td>536365</td>\n      <td>84029G</td>\n      <td>KNITTED UNION FLAG HOT WATER BOTTLE</td>\n      <td>6</td>\n      <td>2010-01-12 08:26:00</td>\n      <td>3.39</td>\n      <td>17850.0</td>\n      <td>36</td>\n    </tr>\n    <tr>\n      <th>4</th>\n      <td>536365</td>\n      <td>84029E</td>\n      <td>RED WOOLLY HOTTIE WHITE HEART.</td>\n      <td>6</td>\n      <td>2010-01-12 08:26:00</td>\n      <td>3.39</td>\n      <td>17850.0</td>\n      <td>36</td>\n    </tr>\n  </tbody>\n</table>\n</div>"
     },
     "execution_count": 18,
     "metadata": {},
     "output_type": "execute_result"
    }
   ],
   "source": [
    "data.head()"
   ],
   "metadata": {
    "collapsed": false,
    "ExecuteTime": {
     "start_time": "2023-04-28T12:01:46.327601Z",
     "end_time": "2023-04-28T12:01:46.395023Z"
    }
   }
  },
  {
   "cell_type": "markdown",
   "source": [
    "Normalization"
   ],
   "metadata": {
    "collapsed": false
   }
  },
  {
   "cell_type": "code",
   "execution_count": 22,
   "outputs": [],
   "source": [
    "scale = MinMaxScaler()\n",
    "data[['Quantity','UnitPrice']] = scale.fit_transform(data[['Quantity','UnitPrice']])"
   ],
   "metadata": {
    "collapsed": false,
    "ExecuteTime": {
     "start_time": "2023-04-28T12:05:55.527190Z",
     "end_time": "2023-04-28T12:05:55.571082Z"
    }
   }
  },
  {
   "cell_type": "code",
   "execution_count": 23,
   "outputs": [
    {
     "data": {
      "text/plain": "       InvoiceNo StockCode                          Description  Quantity  \\\n0         536365    85123A   WHITE HANGING HEART T-LIGHT HOLDER  0.500037   \n1         536365     71053                  WHITE METAL LANTERN  0.500037   \n2         536365    84406B       CREAM CUPID HEARTS COAT HANGER  0.500049   \n3         536365    84029G  KNITTED UNION FLAG HOT WATER BOTTLE  0.500037   \n4         536365    84029E       RED WOOLLY HOTTIE WHITE HEART.  0.500037   \n...          ...       ...                                  ...       ...   \n541904    581587     22613          PACK OF 20 SPACEBOY NAPKINS  0.500074   \n541905    581587     22899         CHILDREN'S APRON DOLLY GIRL   0.500037   \n541906    581587     23254        CHILDRENS CUTLERY DOLLY GIRL   0.500025   \n541907    581587     23255      CHILDRENS CUTLERY CIRCUS PARADE  0.500025   \n541908    581587     22138        BAKING SET 9 PIECE RETROSPOT   0.500019   \n\n               InvoiceDate  UnitPrice  CustomerID  Country  \n0      2010-01-12 08:26:00   0.221150     17850.0       36  \n1      2010-01-12 08:26:00   0.221167     17850.0       36  \n2      2010-01-12 08:26:00   0.221154     17850.0       36  \n3      2010-01-12 08:26:00   0.221167     17850.0       36  \n4      2010-01-12 08:26:00   0.221167     17850.0       36  \n...                    ...        ...         ...      ...  \n541904 2011-09-12 12:50:00   0.221116     12680.0       13  \n541905 2011-09-12 12:50:00   0.221141     12680.0       13  \n541906 2011-09-12 12:50:00   0.221182     12680.0       13  \n541907 2011-09-12 12:50:00   0.221182     12680.0       13  \n541908 2011-09-12 12:50:00   0.221198     12680.0       13  \n\n[541909 rows x 8 columns]",
      "text/html": "<div>\n<style scoped>\n    .dataframe tbody tr th:only-of-type {\n        vertical-align: middle;\n    }\n\n    .dataframe tbody tr th {\n        vertical-align: top;\n    }\n\n    .dataframe thead th {\n        text-align: right;\n    }\n</style>\n<table border=\"1\" class=\"dataframe\">\n  <thead>\n    <tr style=\"text-align: right;\">\n      <th></th>\n      <th>InvoiceNo</th>\n      <th>StockCode</th>\n      <th>Description</th>\n      <th>Quantity</th>\n      <th>InvoiceDate</th>\n      <th>UnitPrice</th>\n      <th>CustomerID</th>\n      <th>Country</th>\n    </tr>\n  </thead>\n  <tbody>\n    <tr>\n      <th>0</th>\n      <td>536365</td>\n      <td>85123A</td>\n      <td>WHITE HANGING HEART T-LIGHT HOLDER</td>\n      <td>0.500037</td>\n      <td>2010-01-12 08:26:00</td>\n      <td>0.221150</td>\n      <td>17850.0</td>\n      <td>36</td>\n    </tr>\n    <tr>\n      <th>1</th>\n      <td>536365</td>\n      <td>71053</td>\n      <td>WHITE METAL LANTERN</td>\n      <td>0.500037</td>\n      <td>2010-01-12 08:26:00</td>\n      <td>0.221167</td>\n      <td>17850.0</td>\n      <td>36</td>\n    </tr>\n    <tr>\n      <th>2</th>\n      <td>536365</td>\n      <td>84406B</td>\n      <td>CREAM CUPID HEARTS COAT HANGER</td>\n      <td>0.500049</td>\n      <td>2010-01-12 08:26:00</td>\n      <td>0.221154</td>\n      <td>17850.0</td>\n      <td>36</td>\n    </tr>\n    <tr>\n      <th>3</th>\n      <td>536365</td>\n      <td>84029G</td>\n      <td>KNITTED UNION FLAG HOT WATER BOTTLE</td>\n      <td>0.500037</td>\n      <td>2010-01-12 08:26:00</td>\n      <td>0.221167</td>\n      <td>17850.0</td>\n      <td>36</td>\n    </tr>\n    <tr>\n      <th>4</th>\n      <td>536365</td>\n      <td>84029E</td>\n      <td>RED WOOLLY HOTTIE WHITE HEART.</td>\n      <td>0.500037</td>\n      <td>2010-01-12 08:26:00</td>\n      <td>0.221167</td>\n      <td>17850.0</td>\n      <td>36</td>\n    </tr>\n    <tr>\n      <th>...</th>\n      <td>...</td>\n      <td>...</td>\n      <td>...</td>\n      <td>...</td>\n      <td>...</td>\n      <td>...</td>\n      <td>...</td>\n      <td>...</td>\n    </tr>\n    <tr>\n      <th>541904</th>\n      <td>581587</td>\n      <td>22613</td>\n      <td>PACK OF 20 SPACEBOY NAPKINS</td>\n      <td>0.500074</td>\n      <td>2011-09-12 12:50:00</td>\n      <td>0.221116</td>\n      <td>12680.0</td>\n      <td>13</td>\n    </tr>\n    <tr>\n      <th>541905</th>\n      <td>581587</td>\n      <td>22899</td>\n      <td>CHILDREN'S APRON DOLLY GIRL</td>\n      <td>0.500037</td>\n      <td>2011-09-12 12:50:00</td>\n      <td>0.221141</td>\n      <td>12680.0</td>\n      <td>13</td>\n    </tr>\n    <tr>\n      <th>541906</th>\n      <td>581587</td>\n      <td>23254</td>\n      <td>CHILDRENS CUTLERY DOLLY GIRL</td>\n      <td>0.500025</td>\n      <td>2011-09-12 12:50:00</td>\n      <td>0.221182</td>\n      <td>12680.0</td>\n      <td>13</td>\n    </tr>\n    <tr>\n      <th>541907</th>\n      <td>581587</td>\n      <td>23255</td>\n      <td>CHILDRENS CUTLERY CIRCUS PARADE</td>\n      <td>0.500025</td>\n      <td>2011-09-12 12:50:00</td>\n      <td>0.221182</td>\n      <td>12680.0</td>\n      <td>13</td>\n    </tr>\n    <tr>\n      <th>541908</th>\n      <td>581587</td>\n      <td>22138</td>\n      <td>BAKING SET 9 PIECE RETROSPOT</td>\n      <td>0.500019</td>\n      <td>2011-09-12 12:50:00</td>\n      <td>0.221198</td>\n      <td>12680.0</td>\n      <td>13</td>\n    </tr>\n  </tbody>\n</table>\n<p>541909 rows × 8 columns</p>\n</div>"
     },
     "execution_count": 23,
     "metadata": {},
     "output_type": "execute_result"
    }
   ],
   "source": [
    "data"
   ],
   "metadata": {
    "collapsed": false,
    "ExecuteTime": {
     "start_time": "2023-04-28T12:06:03.717298Z",
     "end_time": "2023-04-28T12:06:03.786512Z"
    }
   }
  },
  {
   "cell_type": "markdown",
   "source": [
    "Dealing with missing values"
   ],
   "metadata": {
    "collapsed": false
   }
  },
  {
   "cell_type": "code",
   "execution_count": 25,
   "outputs": [
    {
     "data": {
      "text/plain": "InvoiceNo           0\nStockCode           0\nDescription      1454\nQuantity            0\nInvoiceDate         0\nUnitPrice           0\nCustomerID     135080\nCountry             0\ndtype: int64"
     },
     "execution_count": 25,
     "metadata": {},
     "output_type": "execute_result"
    }
   ],
   "source": [
    "data.isnull().sum()"
   ],
   "metadata": {
    "collapsed": false,
    "ExecuteTime": {
     "start_time": "2023-04-28T12:09:04.046278Z",
     "end_time": "2023-04-28T12:09:04.364742Z"
    }
   }
  },
  {
   "cell_type": "code",
   "execution_count": 26,
   "outputs": [],
   "source": [
    "data = data.drop(columns=['CustomerID'])"
   ],
   "metadata": {
    "collapsed": false,
    "ExecuteTime": {
     "start_time": "2023-04-28T12:09:23.653593Z",
     "end_time": "2023-04-28T12:09:23.706503Z"
    }
   }
  },
  {
   "cell_type": "code",
   "execution_count": 27,
   "outputs": [
    {
     "data": {
      "text/plain": "     InvoiceNo StockCode Description  Quantity         InvoiceDate  UnitPrice  \\\n622     536414     22139         NaN  0.500346 2010-01-12 11:52:00   0.221099   \n1970    536545     21134         NaN  0.500006 2010-01-12 14:32:00   0.221099   \n1971    536546     22145         NaN  0.500006 2010-01-12 14:33:00   0.221099   \n1972    536547     37509         NaN  0.500006 2010-01-12 14:33:00   0.221099   \n1987    536549    85226A         NaN  0.500006 2010-01-12 14:34:00   0.221099   \n\n      Country  \n622        36  \n1970       36  \n1971       36  \n1972       36  \n1987       36  ",
      "text/html": "<div>\n<style scoped>\n    .dataframe tbody tr th:only-of-type {\n        vertical-align: middle;\n    }\n\n    .dataframe tbody tr th {\n        vertical-align: top;\n    }\n\n    .dataframe thead th {\n        text-align: right;\n    }\n</style>\n<table border=\"1\" class=\"dataframe\">\n  <thead>\n    <tr style=\"text-align: right;\">\n      <th></th>\n      <th>InvoiceNo</th>\n      <th>StockCode</th>\n      <th>Description</th>\n      <th>Quantity</th>\n      <th>InvoiceDate</th>\n      <th>UnitPrice</th>\n      <th>Country</th>\n    </tr>\n  </thead>\n  <tbody>\n    <tr>\n      <th>622</th>\n      <td>536414</td>\n      <td>22139</td>\n      <td>NaN</td>\n      <td>0.500346</td>\n      <td>2010-01-12 11:52:00</td>\n      <td>0.221099</td>\n      <td>36</td>\n    </tr>\n    <tr>\n      <th>1970</th>\n      <td>536545</td>\n      <td>21134</td>\n      <td>NaN</td>\n      <td>0.500006</td>\n      <td>2010-01-12 14:32:00</td>\n      <td>0.221099</td>\n      <td>36</td>\n    </tr>\n    <tr>\n      <th>1971</th>\n      <td>536546</td>\n      <td>22145</td>\n      <td>NaN</td>\n      <td>0.500006</td>\n      <td>2010-01-12 14:33:00</td>\n      <td>0.221099</td>\n      <td>36</td>\n    </tr>\n    <tr>\n      <th>1972</th>\n      <td>536547</td>\n      <td>37509</td>\n      <td>NaN</td>\n      <td>0.500006</td>\n      <td>2010-01-12 14:33:00</td>\n      <td>0.221099</td>\n      <td>36</td>\n    </tr>\n    <tr>\n      <th>1987</th>\n      <td>536549</td>\n      <td>85226A</td>\n      <td>NaN</td>\n      <td>0.500006</td>\n      <td>2010-01-12 14:34:00</td>\n      <td>0.221099</td>\n      <td>36</td>\n    </tr>\n  </tbody>\n</table>\n</div>"
     },
     "execution_count": 27,
     "metadata": {},
     "output_type": "execute_result"
    }
   ],
   "source": [
    "data[data['Description'].isnull()].head()"
   ],
   "metadata": {
    "collapsed": false,
    "ExecuteTime": {
     "start_time": "2023-04-28T12:09:53.657929Z",
     "end_time": "2023-04-28T12:09:53.703703Z"
    }
   }
  },
  {
   "cell_type": "code",
   "execution_count": 28,
   "outputs": [],
   "source": [
    "data['Description'] = data['Description'].fillna(\"UNKNOWN ITEM\")"
   ],
   "metadata": {
    "collapsed": false,
    "ExecuteTime": {
     "start_time": "2023-04-28T12:10:43.090963Z",
     "end_time": "2023-04-28T12:10:43.165441Z"
    }
   }
  },
  {
   "cell_type": "code",
   "execution_count": 29,
   "outputs": [
    {
     "data": {
      "text/plain": "InvoiceNo      0\nStockCode      0\nDescription    0\nQuantity       0\nInvoiceDate    0\nUnitPrice      0\nCountry        0\ndtype: int64"
     },
     "execution_count": 29,
     "metadata": {},
     "output_type": "execute_result"
    }
   ],
   "source": [
    "data.isnull().sum()"
   ],
   "metadata": {
    "collapsed": false,
    "ExecuteTime": {
     "start_time": "2023-04-28T12:11:00.166277Z",
     "end_time": "2023-04-28T12:11:00.503085Z"
    }
   }
  },
  {
   "cell_type": "markdown",
   "source": [
    "## Classification"
   ],
   "metadata": {
    "collapsed": false
   }
  },
  {
   "cell_type": "code",
   "execution_count": 35,
   "outputs": [
    {
     "data": {
      "text/plain": "Empty DataFrame\nColumns: []\nIndex: []",
      "text/html": "<div>\n<style scoped>\n    .dataframe tbody tr th:only-of-type {\n        vertical-align: middle;\n    }\n\n    .dataframe tbody tr th {\n        vertical-align: top;\n    }\n\n    .dataframe thead th {\n        text-align: right;\n    }\n</style>\n<table border=\"1\" class=\"dataframe\">\n  <thead>\n    <tr style=\"text-align: right;\">\n      <th>Description</th>\n    </tr>\n    <tr>\n      <th>InvoiceNo</th>\n    </tr>\n  </thead>\n  <tbody>\n  </tbody>\n</table>\n</div>"
     },
     "execution_count": 35,
     "metadata": {},
     "output_type": "execute_result"
    }
   ],
   "source": [
    "# Apriori Algorithm\n",
    "\n",
    "from mlxtend.frequent_patterns import apriori\n",
    "from mlxtend.frequent_patterns import association_rules"
   ],
   "metadata": {
    "collapsed": false,
    "ExecuteTime": {
     "start_time": "2023-04-28T14:00:03.840394Z",
     "end_time": "2023-04-28T14:00:03.866692Z"
    }
   }
  },
  {
   "cell_type": "code",
   "execution_count": 44,
   "outputs": [],
   "source": [
    "# Stripping extra spaces in the description\n",
    "data['Description'] = data['Description'].str.strip()\n",
    "\n",
    "# Dropping the rows without any invoice number\n",
    "data.dropna(axis = 0, subset =['InvoiceNo'], inplace = True)\n",
    "data['InvoiceNo'] = data['InvoiceNo'].astype('str')\n",
    "\n",
    "# Dropping all transactions which were done on credit\n",
    "data = data[~data['InvoiceNo'].str.contains('C')]"
   ],
   "metadata": {
    "collapsed": false,
    "ExecuteTime": {
     "start_time": "2023-04-28T14:27:59.311495Z",
     "end_time": "2023-04-28T14:28:00.178996Z"
    }
   }
  },
  {
   "cell_type": "code",
   "execution_count": 47,
   "outputs": [],
   "source": [
    "basket_UK = (data[data['Country'] == 36].groupby(['InvoiceNo', 'Description'])['Quantity'].sum().unstack().reset_index().fillna(0).set_index('InvoiceNo'))"
   ],
   "metadata": {
    "collapsed": false,
    "ExecuteTime": {
     "start_time": "2023-04-28T14:30:21.334450Z",
     "end_time": "2023-04-28T14:30:24.290726Z"
    }
   }
  },
  {
   "cell_type": "code",
   "execution_count": 49,
   "outputs": [
    {
     "data": {
      "text/plain": "Description  *Boombox Ipod Classic  *USB Office Mirror Ball  \\\nInvoiceNo                                                     \n536365                         0.0                      0.0   \n536366                         0.0                      0.0   \n536367                         0.0                      0.0   \n536368                         0.0                      0.0   \n536369                         0.0                      0.0   \n...                            ...                      ...   \n581585                         0.0                      0.0   \n581586                         0.0                      0.0   \nA563185                        0.0                      0.0   \nA563186                        0.0                      0.0   \nA563187                        0.0                      0.0   \n\nDescription  10 COLOUR SPACEBOY PEN  12 COLOURED PARTY BALLOONS  \\\nInvoiceNo                                                         \n536365                          0.0                         0.0   \n536366                          0.0                         0.0   \n536367                          0.0                         0.0   \n536368                          0.0                         0.0   \n536369                          0.0                         0.0   \n...                             ...                         ...   \n581585                          0.0                         0.0   \n581586                          0.0                         0.0   \nA563185                         0.0                         0.0   \nA563186                         0.0                         0.0   \nA563187                         0.0                         0.0   \n\nDescription  12 DAISY PEGS IN WOOD BOX  12 EGG HOUSE PAINTED WOOD  \\\nInvoiceNo                                                           \n536365                             0.0                        0.0   \n536366                             0.0                        0.0   \n536367                             0.0                        0.0   \n536368                             0.0                        0.0   \n536369                             0.0                        0.0   \n...                                ...                        ...   \n581585                             0.0                        0.0   \n581586                             0.0                        0.0   \nA563185                            0.0                        0.0   \nA563186                            0.0                        0.0   \nA563187                            0.0                        0.0   \n\nDescription  12 HANGING EGGS HAND PAINTED  12 IVORY ROSE PEG PLACE SETTINGS  \\\nInvoiceNo                                                                     \n536365                                0.0                               0.0   \n536366                                0.0                               0.0   \n536367                                0.0                               0.0   \n536368                                0.0                               0.0   \n536369                                0.0                               0.0   \n...                                   ...                               ...   \n581585                                0.0                               0.0   \n581586                                0.0                               0.0   \nA563185                               0.0                               0.0   \nA563186                               0.0                               0.0   \nA563187                               0.0                               0.0   \n\nDescription  12 MESSAGE CARDS WITH ENVELOPES  12 PENCIL SMALL TUBE WOODLAND  \\\nInvoiceNo                                                                     \n536365                                   0.0                            0.0   \n536366                                   0.0                            0.0   \n536367                                   0.0                            0.0   \n536368                                   0.0                            0.0   \n536369                                   0.0                            0.0   \n...                                      ...                            ...   \n581585                                   0.0                            0.0   \n581586                                   0.0                            0.0   \nA563185                                  0.0                            0.0   \nA563186                                  0.0                            0.0   \nA563187                                  0.0                            0.0   \n\nDescription  ...  wrongly coded 20713  wrongly coded 23343  \\\nInvoiceNo    ...                                             \n536365       ...                  0.0                  0.0   \n536366       ...                  0.0                  0.0   \n536367       ...                  0.0                  0.0   \n536368       ...                  0.0                  0.0   \n536369       ...                  0.0                  0.0   \n...          ...                  ...                  ...   \n581585       ...                  0.0                  0.0   \n581586       ...                  0.0                  0.0   \nA563185      ...                  0.0                  0.0   \nA563186      ...                  0.0                  0.0   \nA563187      ...                  0.0                  0.0   \n\nDescription  wrongly coded-23343  wrongly marked  wrongly marked 23343  \\\nInvoiceNo                                                                \n536365                       0.0             0.0                   0.0   \n536366                       0.0             0.0                   0.0   \n536367                       0.0             0.0                   0.0   \n536368                       0.0             0.0                   0.0   \n536369                       0.0             0.0                   0.0   \n...                          ...             ...                   ...   \n581585                       0.0             0.0                   0.0   \n581586                       0.0             0.0                   0.0   \nA563185                      0.0             0.0                   0.0   \nA563186                      0.0             0.0                   0.0   \nA563187                      0.0             0.0                   0.0   \n\nDescription  wrongly marked carton 22804  wrongly marked. 23343 in box  \\\nInvoiceNo                                                                \n536365                               0.0                           0.0   \n536366                               0.0                           0.0   \n536367                               0.0                           0.0   \n536368                               0.0                           0.0   \n536369                               0.0                           0.0   \n...                                  ...                           ...   \n581585                               0.0                           0.0   \n581586                               0.0                           0.0   \nA563185                              0.0                           0.0   \nA563186                              0.0                           0.0   \nA563187                              0.0                           0.0   \n\nDescription  wrongly sold (22719) barcode  wrongly sold as sets  \\\nInvoiceNo                                                         \n536365                                0.0                   0.0   \n536366                                0.0                   0.0   \n536367                                0.0                   0.0   \n536368                                0.0                   0.0   \n536369                                0.0                   0.0   \n...                                   ...                   ...   \n581585                                0.0                   0.0   \n581586                                0.0                   0.0   \nA563185                               0.0                   0.0   \nA563186                               0.0                   0.0   \nA563187                               0.0                   0.0   \n\nDescription  wrongly sold sets  \nInvoiceNo                       \n536365                     0.0  \n536366                     0.0  \n536367                     0.0  \n536368                     0.0  \n536369                     0.0  \n...                        ...  \n581585                     0.0  \n581586                     0.0  \nA563185                    0.0  \nA563186                    0.0  \nA563187                    0.0  \n\n[20122 rows x 4177 columns]",
      "text/html": "<div>\n<style scoped>\n    .dataframe tbody tr th:only-of-type {\n        vertical-align: middle;\n    }\n\n    .dataframe tbody tr th {\n        vertical-align: top;\n    }\n\n    .dataframe thead th {\n        text-align: right;\n    }\n</style>\n<table border=\"1\" class=\"dataframe\">\n  <thead>\n    <tr style=\"text-align: right;\">\n      <th>Description</th>\n      <th>*Boombox Ipod Classic</th>\n      <th>*USB Office Mirror Ball</th>\n      <th>10 COLOUR SPACEBOY PEN</th>\n      <th>12 COLOURED PARTY BALLOONS</th>\n      <th>12 DAISY PEGS IN WOOD BOX</th>\n      <th>12 EGG HOUSE PAINTED WOOD</th>\n      <th>12 HANGING EGGS HAND PAINTED</th>\n      <th>12 IVORY ROSE PEG PLACE SETTINGS</th>\n      <th>12 MESSAGE CARDS WITH ENVELOPES</th>\n      <th>12 PENCIL SMALL TUBE WOODLAND</th>\n      <th>...</th>\n      <th>wrongly coded 20713</th>\n      <th>wrongly coded 23343</th>\n      <th>wrongly coded-23343</th>\n      <th>wrongly marked</th>\n      <th>wrongly marked 23343</th>\n      <th>wrongly marked carton 22804</th>\n      <th>wrongly marked. 23343 in box</th>\n      <th>wrongly sold (22719) barcode</th>\n      <th>wrongly sold as sets</th>\n      <th>wrongly sold sets</th>\n    </tr>\n    <tr>\n      <th>InvoiceNo</th>\n      <th></th>\n      <th></th>\n      <th></th>\n      <th></th>\n      <th></th>\n      <th></th>\n      <th></th>\n      <th></th>\n      <th></th>\n      <th></th>\n      <th></th>\n      <th></th>\n      <th></th>\n      <th></th>\n      <th></th>\n      <th></th>\n      <th></th>\n      <th></th>\n      <th></th>\n      <th></th>\n      <th></th>\n    </tr>\n  </thead>\n  <tbody>\n    <tr>\n      <th>536365</th>\n      <td>0.0</td>\n      <td>0.0</td>\n      <td>0.0</td>\n      <td>0.0</td>\n      <td>0.0</td>\n      <td>0.0</td>\n      <td>0.0</td>\n      <td>0.0</td>\n      <td>0.0</td>\n      <td>0.0</td>\n      <td>...</td>\n      <td>0.0</td>\n      <td>0.0</td>\n      <td>0.0</td>\n      <td>0.0</td>\n      <td>0.0</td>\n      <td>0.0</td>\n      <td>0.0</td>\n      <td>0.0</td>\n      <td>0.0</td>\n      <td>0.0</td>\n    </tr>\n    <tr>\n      <th>536366</th>\n      <td>0.0</td>\n      <td>0.0</td>\n      <td>0.0</td>\n      <td>0.0</td>\n      <td>0.0</td>\n      <td>0.0</td>\n      <td>0.0</td>\n      <td>0.0</td>\n      <td>0.0</td>\n      <td>0.0</td>\n      <td>...</td>\n      <td>0.0</td>\n      <td>0.0</td>\n      <td>0.0</td>\n      <td>0.0</td>\n      <td>0.0</td>\n      <td>0.0</td>\n      <td>0.0</td>\n      <td>0.0</td>\n      <td>0.0</td>\n      <td>0.0</td>\n    </tr>\n    <tr>\n      <th>536367</th>\n      <td>0.0</td>\n      <td>0.0</td>\n      <td>0.0</td>\n      <td>0.0</td>\n      <td>0.0</td>\n      <td>0.0</td>\n      <td>0.0</td>\n      <td>0.0</td>\n      <td>0.0</td>\n      <td>0.0</td>\n      <td>...</td>\n      <td>0.0</td>\n      <td>0.0</td>\n      <td>0.0</td>\n      <td>0.0</td>\n      <td>0.0</td>\n      <td>0.0</td>\n      <td>0.0</td>\n      <td>0.0</td>\n      <td>0.0</td>\n      <td>0.0</td>\n    </tr>\n    <tr>\n      <th>536368</th>\n      <td>0.0</td>\n      <td>0.0</td>\n      <td>0.0</td>\n      <td>0.0</td>\n      <td>0.0</td>\n      <td>0.0</td>\n      <td>0.0</td>\n      <td>0.0</td>\n      <td>0.0</td>\n      <td>0.0</td>\n      <td>...</td>\n      <td>0.0</td>\n      <td>0.0</td>\n      <td>0.0</td>\n      <td>0.0</td>\n      <td>0.0</td>\n      <td>0.0</td>\n      <td>0.0</td>\n      <td>0.0</td>\n      <td>0.0</td>\n      <td>0.0</td>\n    </tr>\n    <tr>\n      <th>536369</th>\n      <td>0.0</td>\n      <td>0.0</td>\n      <td>0.0</td>\n      <td>0.0</td>\n      <td>0.0</td>\n      <td>0.0</td>\n      <td>0.0</td>\n      <td>0.0</td>\n      <td>0.0</td>\n      <td>0.0</td>\n      <td>...</td>\n      <td>0.0</td>\n      <td>0.0</td>\n      <td>0.0</td>\n      <td>0.0</td>\n      <td>0.0</td>\n      <td>0.0</td>\n      <td>0.0</td>\n      <td>0.0</td>\n      <td>0.0</td>\n      <td>0.0</td>\n    </tr>\n    <tr>\n      <th>...</th>\n      <td>...</td>\n      <td>...</td>\n      <td>...</td>\n      <td>...</td>\n      <td>...</td>\n      <td>...</td>\n      <td>...</td>\n      <td>...</td>\n      <td>...</td>\n      <td>...</td>\n      <td>...</td>\n      <td>...</td>\n      <td>...</td>\n      <td>...</td>\n      <td>...</td>\n      <td>...</td>\n      <td>...</td>\n      <td>...</td>\n      <td>...</td>\n      <td>...</td>\n      <td>...</td>\n    </tr>\n    <tr>\n      <th>581585</th>\n      <td>0.0</td>\n      <td>0.0</td>\n      <td>0.0</td>\n      <td>0.0</td>\n      <td>0.0</td>\n      <td>0.0</td>\n      <td>0.0</td>\n      <td>0.0</td>\n      <td>0.0</td>\n      <td>0.0</td>\n      <td>...</td>\n      <td>0.0</td>\n      <td>0.0</td>\n      <td>0.0</td>\n      <td>0.0</td>\n      <td>0.0</td>\n      <td>0.0</td>\n      <td>0.0</td>\n      <td>0.0</td>\n      <td>0.0</td>\n      <td>0.0</td>\n    </tr>\n    <tr>\n      <th>581586</th>\n      <td>0.0</td>\n      <td>0.0</td>\n      <td>0.0</td>\n      <td>0.0</td>\n      <td>0.0</td>\n      <td>0.0</td>\n      <td>0.0</td>\n      <td>0.0</td>\n      <td>0.0</td>\n      <td>0.0</td>\n      <td>...</td>\n      <td>0.0</td>\n      <td>0.0</td>\n      <td>0.0</td>\n      <td>0.0</td>\n      <td>0.0</td>\n      <td>0.0</td>\n      <td>0.0</td>\n      <td>0.0</td>\n      <td>0.0</td>\n      <td>0.0</td>\n    </tr>\n    <tr>\n      <th>A563185</th>\n      <td>0.0</td>\n      <td>0.0</td>\n      <td>0.0</td>\n      <td>0.0</td>\n      <td>0.0</td>\n      <td>0.0</td>\n      <td>0.0</td>\n      <td>0.0</td>\n      <td>0.0</td>\n      <td>0.0</td>\n      <td>...</td>\n      <td>0.0</td>\n      <td>0.0</td>\n      <td>0.0</td>\n      <td>0.0</td>\n      <td>0.0</td>\n      <td>0.0</td>\n      <td>0.0</td>\n      <td>0.0</td>\n      <td>0.0</td>\n      <td>0.0</td>\n    </tr>\n    <tr>\n      <th>A563186</th>\n      <td>0.0</td>\n      <td>0.0</td>\n      <td>0.0</td>\n      <td>0.0</td>\n      <td>0.0</td>\n      <td>0.0</td>\n      <td>0.0</td>\n      <td>0.0</td>\n      <td>0.0</td>\n      <td>0.0</td>\n      <td>...</td>\n      <td>0.0</td>\n      <td>0.0</td>\n      <td>0.0</td>\n      <td>0.0</td>\n      <td>0.0</td>\n      <td>0.0</td>\n      <td>0.0</td>\n      <td>0.0</td>\n      <td>0.0</td>\n      <td>0.0</td>\n    </tr>\n    <tr>\n      <th>A563187</th>\n      <td>0.0</td>\n      <td>0.0</td>\n      <td>0.0</td>\n      <td>0.0</td>\n      <td>0.0</td>\n      <td>0.0</td>\n      <td>0.0</td>\n      <td>0.0</td>\n      <td>0.0</td>\n      <td>0.0</td>\n      <td>...</td>\n      <td>0.0</td>\n      <td>0.0</td>\n      <td>0.0</td>\n      <td>0.0</td>\n      <td>0.0</td>\n      <td>0.0</td>\n      <td>0.0</td>\n      <td>0.0</td>\n      <td>0.0</td>\n      <td>0.0</td>\n    </tr>\n  </tbody>\n</table>\n<p>20122 rows × 4177 columns</p>\n</div>"
     },
     "execution_count": 49,
     "metadata": {},
     "output_type": "execute_result"
    }
   ],
   "source": [
    "basket_UK"
   ],
   "metadata": {
    "collapsed": false,
    "ExecuteTime": {
     "start_time": "2023-04-28T14:30:45.962524Z",
     "end_time": "2023-04-28T14:30:46.041226Z"
    }
   }
  },
  {
   "cell_type": "code",
   "execution_count": 48,
   "outputs": [],
   "source": [
    "def encode_units(x):\n",
    "    if x <= 0:\n",
    "        return 0\n",
    "    if x >= 1:\n",
    "        return 1"
   ],
   "metadata": {
    "collapsed": false,
    "ExecuteTime": {
     "start_time": "2023-04-28T14:30:29.640733Z",
     "end_time": "2023-04-28T14:30:29.656386Z"
    }
   }
  },
  {
   "cell_type": "code",
   "execution_count": 51,
   "outputs": [],
   "source": [
    "basket_encoded = basket_UK.applymap(encode_units)\n",
    "basket_UK = basket_encoded"
   ],
   "metadata": {
    "collapsed": false,
    "ExecuteTime": {
     "start_time": "2023-04-28T14:31:42.773005Z",
     "end_time": "2023-04-28T14:32:13.240958Z"
    }
   }
  },
  {
   "cell_type": "code",
   "execution_count": 60,
   "outputs": [
    {
     "data": {
      "text/plain": "Description\n*Boombox Ipod Classic           Int64\n*USB Office Mirror Ball         Int64\n10 COLOUR SPACEBOY PEN          Int64\n12 COLOURED PARTY BALLOONS      Int64\n12 DAISY PEGS IN WOOD BOX       Int64\n                                ...  \nwrongly marked carton 22804     Int64\nwrongly marked. 23343 in box    Int64\nwrongly sold (22719) barcode    Int64\nwrongly sold as sets            Int64\nwrongly sold sets               Int64\nLength: 4177, dtype: object"
     },
     "execution_count": 60,
     "metadata": {},
     "output_type": "execute_result"
    }
   ],
   "source": [
    "basket_UK.dtypes"
   ],
   "metadata": {
    "collapsed": false,
    "ExecuteTime": {
     "start_time": "2023-04-28T14:35:51.172884Z",
     "end_time": "2023-04-28T14:35:51.233653Z"
    }
   }
  },
  {
   "cell_type": "code",
   "execution_count": 62,
   "outputs": [
    {
     "data": {
      "text/plain": "Description  *Boombox Ipod Classic  *USB Office Mirror Ball  \\\nInvoiceNo                                                     \n536365                           0                        0   \n536366                           0                        0   \n536367                           0                        0   \n536368                           0                        0   \n536369                           0                        0   \n...                            ...                      ...   \n581585                           0                        0   \n581586                           0                        0   \nA563185                          0                        0   \nA563186                          0                        0   \nA563187                          0                        0   \n\nDescription  10 COLOUR SPACEBOY PEN  12 COLOURED PARTY BALLOONS  \\\nInvoiceNo                                                         \n536365                            0                           0   \n536366                            0                           0   \n536367                            0                           0   \n536368                            0                           0   \n536369                            0                           0   \n...                             ...                         ...   \n581585                            0                           0   \n581586                            0                           0   \nA563185                           0                           0   \nA563186                           0                           0   \nA563187                           0                           0   \n\nDescription  12 DAISY PEGS IN WOOD BOX  12 EGG HOUSE PAINTED WOOD  \\\nInvoiceNo                                                           \n536365                               0                          0   \n536366                               0                          0   \n536367                               0                          0   \n536368                               0                          0   \n536369                               0                          0   \n...                                ...                        ...   \n581585                               0                          0   \n581586                               0                          0   \nA563185                              0                          0   \nA563186                              0                          0   \nA563187                              0                          0   \n\nDescription  12 HANGING EGGS HAND PAINTED  12 IVORY ROSE PEG PLACE SETTINGS  \\\nInvoiceNo                                                                     \n536365                                  0                                 0   \n536366                                  0                                 0   \n536367                                  0                                 0   \n536368                                  0                                 0   \n536369                                  0                                 0   \n...                                   ...                               ...   \n581585                                  0                                 0   \n581586                                  0                                 0   \nA563185                                 0                                 0   \nA563186                                 0                                 0   \nA563187                                 0                                 0   \n\nDescription  12 MESSAGE CARDS WITH ENVELOPES  12 PENCIL SMALL TUBE WOODLAND  \\\nInvoiceNo                                                                     \n536365                                     0                              0   \n536366                                     0                              0   \n536367                                     0                              0   \n536368                                     0                              0   \n536369                                     0                              0   \n...                                      ...                            ...   \n581585                                     0                              0   \n581586                                     0                              0   \nA563185                                    0                              0   \nA563186                                    0                              0   \nA563187                                    0                              0   \n\nDescription  ...  wrongly coded 20713  wrongly coded 23343  \\\nInvoiceNo    ...                                             \n536365       ...                    0                    0   \n536366       ...                    0                    0   \n536367       ...                    0                    0   \n536368       ...                    0                    0   \n536369       ...                    0                    0   \n...          ...                  ...                  ...   \n581585       ...                    0                    0   \n581586       ...                    0                    0   \nA563185      ...                    0                    0   \nA563186      ...                    0                    0   \nA563187      ...                    0                    0   \n\nDescription  wrongly coded-23343  wrongly marked  wrongly marked 23343  \\\nInvoiceNo                                                                \n536365                         0               0                     0   \n536366                         0               0                     0   \n536367                         0               0                     0   \n536368                         0               0                     0   \n536369                         0               0                     0   \n...                          ...             ...                   ...   \n581585                         0               0                     0   \n581586                         0               0                     0   \nA563185                        0               0                     0   \nA563186                        0               0                     0   \nA563187                        0               0                     0   \n\nDescription  wrongly marked carton 22804  wrongly marked. 23343 in box  \\\nInvoiceNo                                                                \n536365                                 0                             0   \n536366                                 0                             0   \n536367                                 0                             0   \n536368                                 0                             0   \n536369                                 0                             0   \n...                                  ...                           ...   \n581585                                 0                             0   \n581586                                 0                             0   \nA563185                                0                             0   \nA563186                                0                             0   \nA563187                                0                             0   \n\nDescription  wrongly sold (22719) barcode  wrongly sold as sets  \\\nInvoiceNo                                                         \n536365                                  0                     0   \n536366                                  0                     0   \n536367                                  0                     0   \n536368                                  0                     0   \n536369                                  0                     0   \n...                                   ...                   ...   \n581585                                  0                     0   \n581586                                  0                     0   \nA563185                                 0                     0   \nA563186                                 0                     0   \nA563187                                 0                     0   \n\nDescription  wrongly sold sets  \nInvoiceNo                       \n536365                       0  \n536366                       0  \n536367                       0  \n536368                       0  \n536369                       0  \n...                        ...  \n581585                       0  \n581586                       0  \nA563185                      0  \nA563186                      0  \nA563187                      0  \n\n[20122 rows x 4177 columns]",
      "text/html": "<div>\n<style scoped>\n    .dataframe tbody tr th:only-of-type {\n        vertical-align: middle;\n    }\n\n    .dataframe tbody tr th {\n        vertical-align: top;\n    }\n\n    .dataframe thead th {\n        text-align: right;\n    }\n</style>\n<table border=\"1\" class=\"dataframe\">\n  <thead>\n    <tr style=\"text-align: right;\">\n      <th>Description</th>\n      <th>*Boombox Ipod Classic</th>\n      <th>*USB Office Mirror Ball</th>\n      <th>10 COLOUR SPACEBOY PEN</th>\n      <th>12 COLOURED PARTY BALLOONS</th>\n      <th>12 DAISY PEGS IN WOOD BOX</th>\n      <th>12 EGG HOUSE PAINTED WOOD</th>\n      <th>12 HANGING EGGS HAND PAINTED</th>\n      <th>12 IVORY ROSE PEG PLACE SETTINGS</th>\n      <th>12 MESSAGE CARDS WITH ENVELOPES</th>\n      <th>12 PENCIL SMALL TUBE WOODLAND</th>\n      <th>...</th>\n      <th>wrongly coded 20713</th>\n      <th>wrongly coded 23343</th>\n      <th>wrongly coded-23343</th>\n      <th>wrongly marked</th>\n      <th>wrongly marked 23343</th>\n      <th>wrongly marked carton 22804</th>\n      <th>wrongly marked. 23343 in box</th>\n      <th>wrongly sold (22719) barcode</th>\n      <th>wrongly sold as sets</th>\n      <th>wrongly sold sets</th>\n    </tr>\n    <tr>\n      <th>InvoiceNo</th>\n      <th></th>\n      <th></th>\n      <th></th>\n      <th></th>\n      <th></th>\n      <th></th>\n      <th></th>\n      <th></th>\n      <th></th>\n      <th></th>\n      <th></th>\n      <th></th>\n      <th></th>\n      <th></th>\n      <th></th>\n      <th></th>\n      <th></th>\n      <th></th>\n      <th></th>\n      <th></th>\n      <th></th>\n    </tr>\n  </thead>\n  <tbody>\n    <tr>\n      <th>536365</th>\n      <td>0</td>\n      <td>0</td>\n      <td>0</td>\n      <td>0</td>\n      <td>0</td>\n      <td>0</td>\n      <td>0</td>\n      <td>0</td>\n      <td>0</td>\n      <td>0</td>\n      <td>...</td>\n      <td>0</td>\n      <td>0</td>\n      <td>0</td>\n      <td>0</td>\n      <td>0</td>\n      <td>0</td>\n      <td>0</td>\n      <td>0</td>\n      <td>0</td>\n      <td>0</td>\n    </tr>\n    <tr>\n      <th>536366</th>\n      <td>0</td>\n      <td>0</td>\n      <td>0</td>\n      <td>0</td>\n      <td>0</td>\n      <td>0</td>\n      <td>0</td>\n      <td>0</td>\n      <td>0</td>\n      <td>0</td>\n      <td>...</td>\n      <td>0</td>\n      <td>0</td>\n      <td>0</td>\n      <td>0</td>\n      <td>0</td>\n      <td>0</td>\n      <td>0</td>\n      <td>0</td>\n      <td>0</td>\n      <td>0</td>\n    </tr>\n    <tr>\n      <th>536367</th>\n      <td>0</td>\n      <td>0</td>\n      <td>0</td>\n      <td>0</td>\n      <td>0</td>\n      <td>0</td>\n      <td>0</td>\n      <td>0</td>\n      <td>0</td>\n      <td>0</td>\n      <td>...</td>\n      <td>0</td>\n      <td>0</td>\n      <td>0</td>\n      <td>0</td>\n      <td>0</td>\n      <td>0</td>\n      <td>0</td>\n      <td>0</td>\n      <td>0</td>\n      <td>0</td>\n    </tr>\n    <tr>\n      <th>536368</th>\n      <td>0</td>\n      <td>0</td>\n      <td>0</td>\n      <td>0</td>\n      <td>0</td>\n      <td>0</td>\n      <td>0</td>\n      <td>0</td>\n      <td>0</td>\n      <td>0</td>\n      <td>...</td>\n      <td>0</td>\n      <td>0</td>\n      <td>0</td>\n      <td>0</td>\n      <td>0</td>\n      <td>0</td>\n      <td>0</td>\n      <td>0</td>\n      <td>0</td>\n      <td>0</td>\n    </tr>\n    <tr>\n      <th>536369</th>\n      <td>0</td>\n      <td>0</td>\n      <td>0</td>\n      <td>0</td>\n      <td>0</td>\n      <td>0</td>\n      <td>0</td>\n      <td>0</td>\n      <td>0</td>\n      <td>0</td>\n      <td>...</td>\n      <td>0</td>\n      <td>0</td>\n      <td>0</td>\n      <td>0</td>\n      <td>0</td>\n      <td>0</td>\n      <td>0</td>\n      <td>0</td>\n      <td>0</td>\n      <td>0</td>\n    </tr>\n    <tr>\n      <th>...</th>\n      <td>...</td>\n      <td>...</td>\n      <td>...</td>\n      <td>...</td>\n      <td>...</td>\n      <td>...</td>\n      <td>...</td>\n      <td>...</td>\n      <td>...</td>\n      <td>...</td>\n      <td>...</td>\n      <td>...</td>\n      <td>...</td>\n      <td>...</td>\n      <td>...</td>\n      <td>...</td>\n      <td>...</td>\n      <td>...</td>\n      <td>...</td>\n      <td>...</td>\n      <td>...</td>\n    </tr>\n    <tr>\n      <th>581585</th>\n      <td>0</td>\n      <td>0</td>\n      <td>0</td>\n      <td>0</td>\n      <td>0</td>\n      <td>0</td>\n      <td>0</td>\n      <td>0</td>\n      <td>0</td>\n      <td>0</td>\n      <td>...</td>\n      <td>0</td>\n      <td>0</td>\n      <td>0</td>\n      <td>0</td>\n      <td>0</td>\n      <td>0</td>\n      <td>0</td>\n      <td>0</td>\n      <td>0</td>\n      <td>0</td>\n    </tr>\n    <tr>\n      <th>581586</th>\n      <td>0</td>\n      <td>0</td>\n      <td>0</td>\n      <td>0</td>\n      <td>0</td>\n      <td>0</td>\n      <td>0</td>\n      <td>0</td>\n      <td>0</td>\n      <td>0</td>\n      <td>...</td>\n      <td>0</td>\n      <td>0</td>\n      <td>0</td>\n      <td>0</td>\n      <td>0</td>\n      <td>0</td>\n      <td>0</td>\n      <td>0</td>\n      <td>0</td>\n      <td>0</td>\n    </tr>\n    <tr>\n      <th>A563185</th>\n      <td>0</td>\n      <td>0</td>\n      <td>0</td>\n      <td>0</td>\n      <td>0</td>\n      <td>0</td>\n      <td>0</td>\n      <td>0</td>\n      <td>0</td>\n      <td>0</td>\n      <td>...</td>\n      <td>0</td>\n      <td>0</td>\n      <td>0</td>\n      <td>0</td>\n      <td>0</td>\n      <td>0</td>\n      <td>0</td>\n      <td>0</td>\n      <td>0</td>\n      <td>0</td>\n    </tr>\n    <tr>\n      <th>A563186</th>\n      <td>0</td>\n      <td>0</td>\n      <td>0</td>\n      <td>0</td>\n      <td>0</td>\n      <td>0</td>\n      <td>0</td>\n      <td>0</td>\n      <td>0</td>\n      <td>0</td>\n      <td>...</td>\n      <td>0</td>\n      <td>0</td>\n      <td>0</td>\n      <td>0</td>\n      <td>0</td>\n      <td>0</td>\n      <td>0</td>\n      <td>0</td>\n      <td>0</td>\n      <td>0</td>\n    </tr>\n    <tr>\n      <th>A563187</th>\n      <td>0</td>\n      <td>0</td>\n      <td>0</td>\n      <td>0</td>\n      <td>0</td>\n      <td>0</td>\n      <td>0</td>\n      <td>0</td>\n      <td>0</td>\n      <td>0</td>\n      <td>...</td>\n      <td>0</td>\n      <td>0</td>\n      <td>0</td>\n      <td>0</td>\n      <td>0</td>\n      <td>0</td>\n      <td>0</td>\n      <td>0</td>\n      <td>0</td>\n      <td>0</td>\n    </tr>\n  </tbody>\n</table>\n<p>20122 rows × 4177 columns</p>\n</div>"
     },
     "execution_count": 62,
     "metadata": {},
     "output_type": "execute_result"
    }
   ],
   "source": [
    "basket_UK"
   ],
   "metadata": {
    "collapsed": false,
    "ExecuteTime": {
     "start_time": "2023-04-28T14:36:04.290190Z",
     "end_time": "2023-04-28T14:36:04.349646Z"
    }
   }
  },
  {
   "cell_type": "code",
   "execution_count": 59,
   "outputs": [],
   "source": [
    "basket_UK = basket_UK.astype('Int64')"
   ],
   "metadata": {
    "collapsed": false,
    "ExecuteTime": {
     "start_time": "2023-04-28T14:35:31.184513Z",
     "end_time": "2023-04-28T14:35:42.177569Z"
    }
   }
  },
  {
   "cell_type": "code",
   "execution_count": 61,
   "outputs": [
    {
     "name": "stderr",
     "output_type": "stream",
     "text": [
      "C:\\Users\\Kanna\\anaconda3\\envs\\Mini Project\\lib\\site-packages\\mlxtend\\frequent_patterns\\fpcommon.py:110: DeprecationWarning: DataFrames with non-bool types result in worse computationalperformance and their support might be discontinued in the future.Please use a DataFrame with bool type\n",
      "  warnings.warn(\n",
      "C:\\Users\\Kanna\\anaconda3\\envs\\Mini Project\\lib\\site-packages\\mlxtend\\frequent_patterns\\fpcommon.py:124: DeprecationWarning: elementwise comparison failed; this will raise an error in the future.\n",
      "  idxs = np.where((values != 1) & (values != 0))\n",
      "C:\\Users\\Kanna\\anaconda3\\envs\\Mini Project\\lib\\site-packages\\mlxtend\\frequent_patterns\\fpcommon.py:124: DeprecationWarning: elementwise comparison failed; this will raise an error in the future.\n",
      "  idxs = np.where((values != 1) & (values != 0))\n",
      "<__array_function__ internals>:180: DeprecationWarning: Calling nonzero on 0d arrays is deprecated, as it behaves surprisingly. Use `atleast_1d(cond).nonzero()` if the old behavior was intended. If the context of this warning is of the form `arr[nonzero(cond)]`, just use `arr[cond]`.\n"
     ]
    },
    {
     "ename": "ValueError",
     "evalue": "The allowed values for a DataFrame are True, False, 0, 1. Found value [0 0 0 ... 0 0 0]",
     "output_type": "error",
     "traceback": [
      "\u001B[1;31m---------------------------------------------------------------------------\u001B[0m",
      "\u001B[1;31mValueError\u001B[0m                                Traceback (most recent call last)",
      "Cell \u001B[1;32mIn[61], line 2\u001B[0m\n\u001B[0;32m      1\u001B[0m \u001B[38;5;66;03m# Building the model\u001B[39;00m\n\u001B[1;32m----> 2\u001B[0m frq_items \u001B[38;5;241m=\u001B[39m \u001B[43mapriori\u001B[49m\u001B[43m(\u001B[49m\u001B[43mbasket_UK\u001B[49m\u001B[43m,\u001B[49m\u001B[43m \u001B[49m\u001B[43mmin_support\u001B[49m\u001B[43m \u001B[49m\u001B[38;5;241;43m=\u001B[39;49m\u001B[43m \u001B[49m\u001B[38;5;241;43m0.05\u001B[39;49m\u001B[43m,\u001B[49m\u001B[43m \u001B[49m\u001B[43muse_colnames\u001B[49m\u001B[43m \u001B[49m\u001B[38;5;241;43m=\u001B[39;49m\u001B[43m \u001B[49m\u001B[38;5;28;43;01mTrue\u001B[39;49;00m\u001B[43m)\u001B[49m\n\u001B[0;32m      4\u001B[0m \u001B[38;5;66;03m# Collecting the inferred rules in a dataframe\u001B[39;00m\n\u001B[0;32m      5\u001B[0m rules \u001B[38;5;241m=\u001B[39m association_rules(frq_items, metric \u001B[38;5;241m=\u001B[39m\u001B[38;5;124m\"\u001B[39m\u001B[38;5;124mlift\u001B[39m\u001B[38;5;124m\"\u001B[39m, min_threshold \u001B[38;5;241m=\u001B[39m \u001B[38;5;241m1\u001B[39m)\n",
      "File \u001B[1;32m~\\anaconda3\\envs\\Mini Project\\lib\\site-packages\\mlxtend\\frequent_patterns\\apriori.py:241\u001B[0m, in \u001B[0;36mapriori\u001B[1;34m(df, min_support, use_colnames, max_len, verbose, low_memory)\u001B[0m\n\u001B[0;32m    234\u001B[0m \u001B[38;5;28;01mif\u001B[39;00m min_support \u001B[38;5;241m<\u001B[39m\u001B[38;5;241m=\u001B[39m \u001B[38;5;241m0.0\u001B[39m:\n\u001B[0;32m    235\u001B[0m     \u001B[38;5;28;01mraise\u001B[39;00m \u001B[38;5;167;01mValueError\u001B[39;00m(\n\u001B[0;32m    236\u001B[0m         \u001B[38;5;124m\"\u001B[39m\u001B[38;5;124m`min_support` must be a positive \u001B[39m\u001B[38;5;124m\"\u001B[39m\n\u001B[0;32m    237\u001B[0m         \u001B[38;5;124m\"\u001B[39m\u001B[38;5;124mnumber within the interval `(0, 1]`. \u001B[39m\u001B[38;5;124m\"\u001B[39m\n\u001B[0;32m    238\u001B[0m         \u001B[38;5;124m\"\u001B[39m\u001B[38;5;124mGot \u001B[39m\u001B[38;5;132;01m%s\u001B[39;00m\u001B[38;5;124m.\u001B[39m\u001B[38;5;124m\"\u001B[39m \u001B[38;5;241m%\u001B[39m min_support\n\u001B[0;32m    239\u001B[0m     )\n\u001B[1;32m--> 241\u001B[0m \u001B[43mfpc\u001B[49m\u001B[38;5;241;43m.\u001B[39;49m\u001B[43mvalid_input_check\u001B[49m\u001B[43m(\u001B[49m\u001B[43mdf\u001B[49m\u001B[43m)\u001B[49m\n\u001B[0;32m    243\u001B[0m \u001B[38;5;28;01mif\u001B[39;00m \u001B[38;5;28mhasattr\u001B[39m(df, \u001B[38;5;124m\"\u001B[39m\u001B[38;5;124msparse\u001B[39m\u001B[38;5;124m\"\u001B[39m):\n\u001B[0;32m    244\u001B[0m     \u001B[38;5;66;03m# DataFrame with SparseArray (pandas >= 0.24)\u001B[39;00m\n\u001B[0;32m    245\u001B[0m     \u001B[38;5;28;01mif\u001B[39;00m df\u001B[38;5;241m.\u001B[39msize \u001B[38;5;241m==\u001B[39m \u001B[38;5;241m0\u001B[39m:\n",
      "File \u001B[1;32m~\\anaconda3\\envs\\Mini Project\\lib\\site-packages\\mlxtend\\frequent_patterns\\fpcommon.py:132\u001B[0m, in \u001B[0;36mvalid_input_check\u001B[1;34m(df)\u001B[0m\n\u001B[0;32m    127\u001B[0m val \u001B[38;5;241m=\u001B[39m values[\u001B[38;5;28mtuple\u001B[39m(loc[\u001B[38;5;241m0\u001B[39m] \u001B[38;5;28;01mfor\u001B[39;00m loc \u001B[38;5;129;01min\u001B[39;00m idxs)]\n\u001B[0;32m    128\u001B[0m s \u001B[38;5;241m=\u001B[39m (\n\u001B[0;32m    129\u001B[0m     \u001B[38;5;124m\"\u001B[39m\u001B[38;5;124mThe allowed values for a DataFrame\u001B[39m\u001B[38;5;124m\"\u001B[39m\n\u001B[0;32m    130\u001B[0m     \u001B[38;5;124m\"\u001B[39m\u001B[38;5;124m are True, False, 0, 1. Found value \u001B[39m\u001B[38;5;132;01m%s\u001B[39;00m\u001B[38;5;124m\"\u001B[39m \u001B[38;5;241m%\u001B[39m (val)\n\u001B[0;32m    131\u001B[0m )\n\u001B[1;32m--> 132\u001B[0m \u001B[38;5;28;01mraise\u001B[39;00m \u001B[38;5;167;01mValueError\u001B[39;00m(s)\n",
      "\u001B[1;31mValueError\u001B[0m: The allowed values for a DataFrame are True, False, 0, 1. Found value [0 0 0 ... 0 0 0]"
     ]
    }
   ],
   "source": [
    "# Building the model\n",
    "frq_items = apriori(basket_UK, min_support = 0.05, use_colnames = True)\n",
    "\n",
    "# Collecting the inferred rules in a dataframe\n",
    "rules = association_rules(frq_items, metric =\"lift\", min_threshold = 1)\n",
    "rules = rules.sort_values(['confidence', 'lift'], ascending =[False, False])\n",
    "print(rules.head())"
   ],
   "metadata": {
    "collapsed": false
   }
  }
 ],
 "metadata": {
  "kernelspec": {
   "display_name": "Python 3",
   "language": "python",
   "name": "python3"
  },
  "language_info": {
   "codemirror_mode": {
    "name": "ipython",
    "version": 2
   },
   "file_extension": ".py",
   "mimetype": "text/x-python",
   "name": "python",
   "nbconvert_exporter": "python",
   "pygments_lexer": "ipython2",
   "version": "2.7.6"
  }
 },
 "nbformat": 4,
 "nbformat_minor": 0
}
