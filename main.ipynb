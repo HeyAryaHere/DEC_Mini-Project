{
 "cells": [
  {
   "cell_type": "code",
   "execution_count": 75,
   "metadata": {
    "collapsed": true,
    "ExecuteTime": {
     "start_time": "2023-05-04T11:43:29.504390Z",
     "end_time": "2023-05-04T11:43:29.536272Z"
    }
   },
   "outputs": [],
   "source": [
    "# Importing the dependence to read\n",
    "\n",
    "import pandas as pd\n",
    "import warnings\n",
    "warnings.filterwarnings('ignore')\n",
    "from sklearn.metrics import accuracy_score\n",
    "from sklearn.metrics import f1_score\n",
    "from sklearn.metrics import classification_report\n",
    "from sklearn.metrics import confusion_matrix, ConfusionMatrixDisplay"
   ]
  },
  {
   "cell_type": "code",
   "execution_count": 40,
   "outputs": [
    {
     "data": {
      "text/plain": "   PassengerId  Survived  Pclass  \\\n0          892         0       3   \n1          893         1       3   \n2          894         0       2   \n3          895         0       3   \n4          896         1       3   \n\n                                           Name     Sex   Age  SibSp  Parch  \\\n0                              Kelly, Mr. James    male  34.5      0      0   \n1              Wilkes, Mrs. James (Ellen Needs)  female  47.0      1      0   \n2                     Myles, Mr. Thomas Francis    male  62.0      0      0   \n3                              Wirz, Mr. Albert    male  27.0      0      0   \n4  Hirvonen, Mrs. Alexander (Helga E Lindqvist)  female  22.0      1      1   \n\n    Ticket     Fare Cabin Embarked  \n0   330911   7.8292   NaN        Q  \n1   363272   7.0000   NaN        S  \n2   240276   9.6875   NaN        Q  \n3   315154   8.6625   NaN        S  \n4  3101298  12.2875   NaN        S  ",
      "text/html": "<div>\n<style scoped>\n    .dataframe tbody tr th:only-of-type {\n        vertical-align: middle;\n    }\n\n    .dataframe tbody tr th {\n        vertical-align: top;\n    }\n\n    .dataframe thead th {\n        text-align: right;\n    }\n</style>\n<table border=\"1\" class=\"dataframe\">\n  <thead>\n    <tr style=\"text-align: right;\">\n      <th></th>\n      <th>PassengerId</th>\n      <th>Survived</th>\n      <th>Pclass</th>\n      <th>Name</th>\n      <th>Sex</th>\n      <th>Age</th>\n      <th>SibSp</th>\n      <th>Parch</th>\n      <th>Ticket</th>\n      <th>Fare</th>\n      <th>Cabin</th>\n      <th>Embarked</th>\n    </tr>\n  </thead>\n  <tbody>\n    <tr>\n      <th>0</th>\n      <td>892</td>\n      <td>0</td>\n      <td>3</td>\n      <td>Kelly, Mr. James</td>\n      <td>male</td>\n      <td>34.5</td>\n      <td>0</td>\n      <td>0</td>\n      <td>330911</td>\n      <td>7.8292</td>\n      <td>NaN</td>\n      <td>Q</td>\n    </tr>\n    <tr>\n      <th>1</th>\n      <td>893</td>\n      <td>1</td>\n      <td>3</td>\n      <td>Wilkes, Mrs. James (Ellen Needs)</td>\n      <td>female</td>\n      <td>47.0</td>\n      <td>1</td>\n      <td>0</td>\n      <td>363272</td>\n      <td>7.0000</td>\n      <td>NaN</td>\n      <td>S</td>\n    </tr>\n    <tr>\n      <th>2</th>\n      <td>894</td>\n      <td>0</td>\n      <td>2</td>\n      <td>Myles, Mr. Thomas Francis</td>\n      <td>male</td>\n      <td>62.0</td>\n      <td>0</td>\n      <td>0</td>\n      <td>240276</td>\n      <td>9.6875</td>\n      <td>NaN</td>\n      <td>Q</td>\n    </tr>\n    <tr>\n      <th>3</th>\n      <td>895</td>\n      <td>0</td>\n      <td>3</td>\n      <td>Wirz, Mr. Albert</td>\n      <td>male</td>\n      <td>27.0</td>\n      <td>0</td>\n      <td>0</td>\n      <td>315154</td>\n      <td>8.6625</td>\n      <td>NaN</td>\n      <td>S</td>\n    </tr>\n    <tr>\n      <th>4</th>\n      <td>896</td>\n      <td>1</td>\n      <td>3</td>\n      <td>Hirvonen, Mrs. Alexander (Helga E Lindqvist)</td>\n      <td>female</td>\n      <td>22.0</td>\n      <td>1</td>\n      <td>1</td>\n      <td>3101298</td>\n      <td>12.2875</td>\n      <td>NaN</td>\n      <td>S</td>\n    </tr>\n  </tbody>\n</table>\n</div>"
     },
     "execution_count": 40,
     "metadata": {},
     "output_type": "execute_result"
    }
   ],
   "source": [
    "data = pd.read_csv('titanic.csv')\n",
    "data.head()"
   ],
   "metadata": {
    "collapsed": false,
    "ExecuteTime": {
     "start_time": "2023-05-04T11:31:30.939080Z",
     "end_time": "2023-05-04T11:31:30.967240Z"
    }
   }
  },
  {
   "cell_type": "code",
   "execution_count": 71,
   "outputs": [
    {
     "data": {
      "text/plain": "(418, 4)"
     },
     "execution_count": 71,
     "metadata": {},
     "output_type": "execute_result"
    }
   ],
   "source": [
    "data.shape"
   ],
   "metadata": {
    "collapsed": false,
    "ExecuteTime": {
     "start_time": "2023-05-04T11:38:43.847058Z",
     "end_time": "2023-05-04T11:38:43.926042Z"
    }
   }
  },
  {
   "cell_type": "code",
   "execution_count": 41,
   "outputs": [
    {
     "data": {
      "text/plain": "   Survived  Pclass     Sex   Age\n0         0       3    male  34.5\n1         1       3  female  47.0\n2         0       2    male  62.0\n3         0       3    male  27.0\n4         1       3  female  22.0",
      "text/html": "<div>\n<style scoped>\n    .dataframe tbody tr th:only-of-type {\n        vertical-align: middle;\n    }\n\n    .dataframe tbody tr th {\n        vertical-align: top;\n    }\n\n    .dataframe thead th {\n        text-align: right;\n    }\n</style>\n<table border=\"1\" class=\"dataframe\">\n  <thead>\n    <tr style=\"text-align: right;\">\n      <th></th>\n      <th>Survived</th>\n      <th>Pclass</th>\n      <th>Sex</th>\n      <th>Age</th>\n    </tr>\n  </thead>\n  <tbody>\n    <tr>\n      <th>0</th>\n      <td>0</td>\n      <td>3</td>\n      <td>male</td>\n      <td>34.5</td>\n    </tr>\n    <tr>\n      <th>1</th>\n      <td>1</td>\n      <td>3</td>\n      <td>female</td>\n      <td>47.0</td>\n    </tr>\n    <tr>\n      <th>2</th>\n      <td>0</td>\n      <td>2</td>\n      <td>male</td>\n      <td>62.0</td>\n    </tr>\n    <tr>\n      <th>3</th>\n      <td>0</td>\n      <td>3</td>\n      <td>male</td>\n      <td>27.0</td>\n    </tr>\n    <tr>\n      <th>4</th>\n      <td>1</td>\n      <td>3</td>\n      <td>female</td>\n      <td>22.0</td>\n    </tr>\n  </tbody>\n</table>\n</div>"
     },
     "execution_count": 41,
     "metadata": {},
     "output_type": "execute_result"
    }
   ],
   "source": [
    "# Removing unwanted Columns which won't yield meaningful analysis\n",
    "\n",
    "data.drop(['PassengerId','Name','SibSp','Parch','Ticket','Fare','Cabin', 'Embarked'], axis = 'columns', inplace=True)\n",
    "data.head()"
   ],
   "metadata": {
    "collapsed": false,
    "ExecuteTime": {
     "start_time": "2023-05-04T11:31:32.675931Z",
     "end_time": "2023-05-04T11:31:32.730492Z"
    }
   }
  },
  {
   "cell_type": "code",
   "execution_count": 42,
   "outputs": [
    {
     "data": {
      "text/plain": "Survived     0\nPclass       0\nSex          0\nAge         86\ndtype: int64"
     },
     "execution_count": 42,
     "metadata": {},
     "output_type": "execute_result"
    }
   ],
   "source": [
    "# Checking Null values\n",
    "\n",
    "data.isnull().sum()"
   ],
   "metadata": {
    "collapsed": false,
    "ExecuteTime": {
     "start_time": "2023-05-04T11:31:35.272800Z",
     "end_time": "2023-05-04T11:31:35.286270Z"
    }
   }
  },
  {
   "cell_type": "code",
   "execution_count": 43,
   "outputs": [
    {
     "data": {
      "text/plain": "   Survived  Pclass     Sex   Age\n0         0       3    male  34.5\n1         1       3  female  47.0\n2         0       2    male  62.0\n3         0       3    male  27.0\n4         1       3  female  22.0",
      "text/html": "<div>\n<style scoped>\n    .dataframe tbody tr th:only-of-type {\n        vertical-align: middle;\n    }\n\n    .dataframe tbody tr th {\n        vertical-align: top;\n    }\n\n    .dataframe thead th {\n        text-align: right;\n    }\n</style>\n<table border=\"1\" class=\"dataframe\">\n  <thead>\n    <tr style=\"text-align: right;\">\n      <th></th>\n      <th>Survived</th>\n      <th>Pclass</th>\n      <th>Sex</th>\n      <th>Age</th>\n    </tr>\n  </thead>\n  <tbody>\n    <tr>\n      <th>0</th>\n      <td>0</td>\n      <td>3</td>\n      <td>male</td>\n      <td>34.5</td>\n    </tr>\n    <tr>\n      <th>1</th>\n      <td>1</td>\n      <td>3</td>\n      <td>female</td>\n      <td>47.0</td>\n    </tr>\n    <tr>\n      <th>2</th>\n      <td>0</td>\n      <td>2</td>\n      <td>male</td>\n      <td>62.0</td>\n    </tr>\n    <tr>\n      <th>3</th>\n      <td>0</td>\n      <td>3</td>\n      <td>male</td>\n      <td>27.0</td>\n    </tr>\n    <tr>\n      <th>4</th>\n      <td>1</td>\n      <td>3</td>\n      <td>female</td>\n      <td>22.0</td>\n    </tr>\n  </tbody>\n</table>\n</div>"
     },
     "execution_count": 43,
     "metadata": {},
     "output_type": "execute_result"
    }
   ],
   "source": [
    "#Filling missing null values\n",
    "\n",
    "data['Age'] = data['Age'].fillna(data['Age'].median())\n",
    "data.head()"
   ],
   "metadata": {
    "collapsed": false,
    "ExecuteTime": {
     "start_time": "2023-05-04T11:31:40.831067Z",
     "end_time": "2023-05-04T11:31:40.925301Z"
    }
   }
  },
  {
   "cell_type": "code",
   "execution_count": 44,
   "outputs": [
    {
     "data": {
      "text/plain": "Survived    0\nPclass      0\nSex         0\nAge         0\ndtype: int64"
     },
     "execution_count": 44,
     "metadata": {},
     "output_type": "execute_result"
    }
   ],
   "source": [
    "#Making Sure for null values\n",
    "\n",
    "data.isnull().sum()"
   ],
   "metadata": {
    "collapsed": false,
    "ExecuteTime": {
     "start_time": "2023-05-04T11:31:43.560848Z",
     "end_time": "2023-05-04T11:31:43.600294Z"
    }
   }
  },
  {
   "cell_type": "code",
   "execution_count": 45,
   "outputs": [
    {
     "data": {
      "text/plain": "   Survived  Pclass     Sex  Age\n0         0       3    male   34\n1         1       3  female   47\n2         0       2    male   62\n3         0       3    male   27\n4         1       3  female   22",
      "text/html": "<div>\n<style scoped>\n    .dataframe tbody tr th:only-of-type {\n        vertical-align: middle;\n    }\n\n    .dataframe tbody tr th {\n        vertical-align: top;\n    }\n\n    .dataframe thead th {\n        text-align: right;\n    }\n</style>\n<table border=\"1\" class=\"dataframe\">\n  <thead>\n    <tr style=\"text-align: right;\">\n      <th></th>\n      <th>Survived</th>\n      <th>Pclass</th>\n      <th>Sex</th>\n      <th>Age</th>\n    </tr>\n  </thead>\n  <tbody>\n    <tr>\n      <th>0</th>\n      <td>0</td>\n      <td>3</td>\n      <td>male</td>\n      <td>34</td>\n    </tr>\n    <tr>\n      <th>1</th>\n      <td>1</td>\n      <td>3</td>\n      <td>female</td>\n      <td>47</td>\n    </tr>\n    <tr>\n      <th>2</th>\n      <td>0</td>\n      <td>2</td>\n      <td>male</td>\n      <td>62</td>\n    </tr>\n    <tr>\n      <th>3</th>\n      <td>0</td>\n      <td>3</td>\n      <td>male</td>\n      <td>27</td>\n    </tr>\n    <tr>\n      <th>4</th>\n      <td>1</td>\n      <td>3</td>\n      <td>female</td>\n      <td>22</td>\n    </tr>\n  </tbody>\n</table>\n</div>"
     },
     "execution_count": 45,
     "metadata": {},
     "output_type": "execute_result"
    }
   ],
   "source": [
    "#Converting column age datatype from float 64 to int 64\n",
    "\n",
    "data['Age'] = data['Age'].astype(\"int64\")\n",
    "data.head()"
   ],
   "metadata": {
    "collapsed": false,
    "ExecuteTime": {
     "start_time": "2023-05-04T11:31:45.316177Z",
     "end_time": "2023-05-04T11:31:45.363312Z"
    }
   }
  },
  {
   "cell_type": "code",
   "execution_count": 46,
   "outputs": [],
   "source": [
    "# Implementing Apriori\n",
    "\n",
    "from mlxtend.frequent_patterns import apriori\n",
    "from mlxtend.frequent_patterns import association_rules"
   ],
   "metadata": {
    "collapsed": false,
    "ExecuteTime": {
     "start_time": "2023-05-04T11:31:49.155647Z",
     "end_time": "2023-05-04T11:31:49.175684Z"
    }
   }
  },
  {
   "cell_type": "code",
   "execution_count": 50,
   "outputs": [
    {
     "data": {
      "text/plain": "     Survived  Age_0  Age_1  Age_2  Age_3  Age_5  Age_6  Age_7  Age_8  Age_9  \\\n0           0      0      0      0      0      0      0      0      0      0   \n1           1      0      0      0      0      0      0      0      0      0   \n2           0      0      0      0      0      0      0      0      0      0   \n3           0      0      0      0      0      0      0      0      0      0   \n4           1      0      0      0      0      0      0      0      0      0   \n..        ...    ...    ...    ...    ...    ...    ...    ...    ...    ...   \n413         0      0      0      0      0      0      0      0      0      0   \n414         1      0      0      0      0      0      0      0      0      0   \n415         0      0      0      0      0      0      0      0      0      0   \n416         0      0      0      0      0      0      0      0      0      0   \n417         0      0      0      0      0      0      0      0      0      0   \n\n     ...  Age_62  Age_63  Age_64  Age_67  Age_76  Pclass_1  Pclass_2  \\\n0    ...       0       0       0       0       0         0         0   \n1    ...       0       0       0       0       0         0         0   \n2    ...       1       0       0       0       0         0         1   \n3    ...       0       0       0       0       0         0         0   \n4    ...       0       0       0       0       0         0         0   \n..   ...     ...     ...     ...     ...     ...       ...       ...   \n413  ...       0       0       0       0       0         0         0   \n414  ...       0       0       0       0       0         1         0   \n415  ...       0       0       0       0       0         0         0   \n416  ...       0       0       0       0       0         0         0   \n417  ...       0       0       0       0       0         0         0   \n\n     Pclass_3  Sex_female  Sex_male  \n0           1           0         1  \n1           1           1         0  \n2           0           0         1  \n3           1           0         1  \n4           1           1         0  \n..        ...         ...       ...  \n413         1           0         1  \n414         0           1         0  \n415         1           0         1  \n416         1           0         1  \n417         1           0         1  \n\n[418 rows x 70 columns]",
      "text/html": "<div>\n<style scoped>\n    .dataframe tbody tr th:only-of-type {\n        vertical-align: middle;\n    }\n\n    .dataframe tbody tr th {\n        vertical-align: top;\n    }\n\n    .dataframe thead th {\n        text-align: right;\n    }\n</style>\n<table border=\"1\" class=\"dataframe\">\n  <thead>\n    <tr style=\"text-align: right;\">\n      <th></th>\n      <th>Survived</th>\n      <th>Age_0</th>\n      <th>Age_1</th>\n      <th>Age_2</th>\n      <th>Age_3</th>\n      <th>Age_5</th>\n      <th>Age_6</th>\n      <th>Age_7</th>\n      <th>Age_8</th>\n      <th>Age_9</th>\n      <th>...</th>\n      <th>Age_62</th>\n      <th>Age_63</th>\n      <th>Age_64</th>\n      <th>Age_67</th>\n      <th>Age_76</th>\n      <th>Pclass_1</th>\n      <th>Pclass_2</th>\n      <th>Pclass_3</th>\n      <th>Sex_female</th>\n      <th>Sex_male</th>\n    </tr>\n  </thead>\n  <tbody>\n    <tr>\n      <th>0</th>\n      <td>0</td>\n      <td>0</td>\n      <td>0</td>\n      <td>0</td>\n      <td>0</td>\n      <td>0</td>\n      <td>0</td>\n      <td>0</td>\n      <td>0</td>\n      <td>0</td>\n      <td>...</td>\n      <td>0</td>\n      <td>0</td>\n      <td>0</td>\n      <td>0</td>\n      <td>0</td>\n      <td>0</td>\n      <td>0</td>\n      <td>1</td>\n      <td>0</td>\n      <td>1</td>\n    </tr>\n    <tr>\n      <th>1</th>\n      <td>1</td>\n      <td>0</td>\n      <td>0</td>\n      <td>0</td>\n      <td>0</td>\n      <td>0</td>\n      <td>0</td>\n      <td>0</td>\n      <td>0</td>\n      <td>0</td>\n      <td>...</td>\n      <td>0</td>\n      <td>0</td>\n      <td>0</td>\n      <td>0</td>\n      <td>0</td>\n      <td>0</td>\n      <td>0</td>\n      <td>1</td>\n      <td>1</td>\n      <td>0</td>\n    </tr>\n    <tr>\n      <th>2</th>\n      <td>0</td>\n      <td>0</td>\n      <td>0</td>\n      <td>0</td>\n      <td>0</td>\n      <td>0</td>\n      <td>0</td>\n      <td>0</td>\n      <td>0</td>\n      <td>0</td>\n      <td>...</td>\n      <td>1</td>\n      <td>0</td>\n      <td>0</td>\n      <td>0</td>\n      <td>0</td>\n      <td>0</td>\n      <td>1</td>\n      <td>0</td>\n      <td>0</td>\n      <td>1</td>\n    </tr>\n    <tr>\n      <th>3</th>\n      <td>0</td>\n      <td>0</td>\n      <td>0</td>\n      <td>0</td>\n      <td>0</td>\n      <td>0</td>\n      <td>0</td>\n      <td>0</td>\n      <td>0</td>\n      <td>0</td>\n      <td>...</td>\n      <td>0</td>\n      <td>0</td>\n      <td>0</td>\n      <td>0</td>\n      <td>0</td>\n      <td>0</td>\n      <td>0</td>\n      <td>1</td>\n      <td>0</td>\n      <td>1</td>\n    </tr>\n    <tr>\n      <th>4</th>\n      <td>1</td>\n      <td>0</td>\n      <td>0</td>\n      <td>0</td>\n      <td>0</td>\n      <td>0</td>\n      <td>0</td>\n      <td>0</td>\n      <td>0</td>\n      <td>0</td>\n      <td>...</td>\n      <td>0</td>\n      <td>0</td>\n      <td>0</td>\n      <td>0</td>\n      <td>0</td>\n      <td>0</td>\n      <td>0</td>\n      <td>1</td>\n      <td>1</td>\n      <td>0</td>\n    </tr>\n    <tr>\n      <th>...</th>\n      <td>...</td>\n      <td>...</td>\n      <td>...</td>\n      <td>...</td>\n      <td>...</td>\n      <td>...</td>\n      <td>...</td>\n      <td>...</td>\n      <td>...</td>\n      <td>...</td>\n      <td>...</td>\n      <td>...</td>\n      <td>...</td>\n      <td>...</td>\n      <td>...</td>\n      <td>...</td>\n      <td>...</td>\n      <td>...</td>\n      <td>...</td>\n      <td>...</td>\n      <td>...</td>\n    </tr>\n    <tr>\n      <th>413</th>\n      <td>0</td>\n      <td>0</td>\n      <td>0</td>\n      <td>0</td>\n      <td>0</td>\n      <td>0</td>\n      <td>0</td>\n      <td>0</td>\n      <td>0</td>\n      <td>0</td>\n      <td>...</td>\n      <td>0</td>\n      <td>0</td>\n      <td>0</td>\n      <td>0</td>\n      <td>0</td>\n      <td>0</td>\n      <td>0</td>\n      <td>1</td>\n      <td>0</td>\n      <td>1</td>\n    </tr>\n    <tr>\n      <th>414</th>\n      <td>1</td>\n      <td>0</td>\n      <td>0</td>\n      <td>0</td>\n      <td>0</td>\n      <td>0</td>\n      <td>0</td>\n      <td>0</td>\n      <td>0</td>\n      <td>0</td>\n      <td>...</td>\n      <td>0</td>\n      <td>0</td>\n      <td>0</td>\n      <td>0</td>\n      <td>0</td>\n      <td>1</td>\n      <td>0</td>\n      <td>0</td>\n      <td>1</td>\n      <td>0</td>\n    </tr>\n    <tr>\n      <th>415</th>\n      <td>0</td>\n      <td>0</td>\n      <td>0</td>\n      <td>0</td>\n      <td>0</td>\n      <td>0</td>\n      <td>0</td>\n      <td>0</td>\n      <td>0</td>\n      <td>0</td>\n      <td>...</td>\n      <td>0</td>\n      <td>0</td>\n      <td>0</td>\n      <td>0</td>\n      <td>0</td>\n      <td>0</td>\n      <td>0</td>\n      <td>1</td>\n      <td>0</td>\n      <td>1</td>\n    </tr>\n    <tr>\n      <th>416</th>\n      <td>0</td>\n      <td>0</td>\n      <td>0</td>\n      <td>0</td>\n      <td>0</td>\n      <td>0</td>\n      <td>0</td>\n      <td>0</td>\n      <td>0</td>\n      <td>0</td>\n      <td>...</td>\n      <td>0</td>\n      <td>0</td>\n      <td>0</td>\n      <td>0</td>\n      <td>0</td>\n      <td>0</td>\n      <td>0</td>\n      <td>1</td>\n      <td>0</td>\n      <td>1</td>\n    </tr>\n    <tr>\n      <th>417</th>\n      <td>0</td>\n      <td>0</td>\n      <td>0</td>\n      <td>0</td>\n      <td>0</td>\n      <td>0</td>\n      <td>0</td>\n      <td>0</td>\n      <td>0</td>\n      <td>0</td>\n      <td>...</td>\n      <td>0</td>\n      <td>0</td>\n      <td>0</td>\n      <td>0</td>\n      <td>0</td>\n      <td>0</td>\n      <td>0</td>\n      <td>1</td>\n      <td>0</td>\n      <td>1</td>\n    </tr>\n  </tbody>\n</table>\n<p>418 rows × 70 columns</p>\n</div>"
     },
     "execution_count": 50,
     "metadata": {},
     "output_type": "execute_result"
    }
   ],
   "source": [
    "titanic_encoded_df = pd.get_dummies(data, columns=[\"Age\",\"Pclass\", \"Sex\"])\n",
    "titanic_encoded_df"
   ],
   "metadata": {
    "collapsed": false,
    "ExecuteTime": {
     "start_time": "2023-05-04T11:32:56.092665Z",
     "end_time": "2023-05-04T11:32:56.147983Z"
    }
   }
  },
  {
   "cell_type": "code",
   "execution_count": 53,
   "outputs": [
    {
     "data": {
      "text/plain": "     support                                  itemsets\n0   0.363636                                (Survived)\n1   0.234450                                  (Age_27)\n2   0.255981                                (Pclass_1)\n3   0.222488                                (Pclass_2)\n4   0.521531                                (Pclass_3)\n5   0.363636                              (Sex_female)\n6   0.636364                                (Sex_male)\n7   0.069378                        (Survived, Age_27)\n8   0.119617                      (Survived, Pclass_1)\n9   0.071770                      (Survived, Pclass_2)\n10  0.172249                      (Survived, Pclass_3)\n11  0.363636                    (Survived, Sex_female)\n12  0.188995                        (Age_27, Pclass_3)\n13  0.069378                      (Sex_female, Age_27)\n14  0.165072                        (Sex_male, Age_27)\n15  0.119617                    (Pclass_1, Sex_female)\n16  0.136364                      (Sex_male, Pclass_1)\n17  0.071770                    (Pclass_2, Sex_female)\n18  0.150718                      (Sex_male, Pclass_2)\n19  0.172249                    (Sex_female, Pclass_3)\n20  0.349282                      (Sex_male, Pclass_3)\n21  0.057416              (Survived, Age_27, Pclass_3)\n22  0.069378            (Survived, Sex_female, Age_27)\n23  0.119617          (Survived, Pclass_1, Sex_female)\n24  0.071770          (Survived, Pclass_2, Sex_female)\n25  0.172249          (Survived, Sex_female, Pclass_3)\n26  0.057416            (Sex_female, Age_27, Pclass_3)\n27  0.131579              (Sex_male, Age_27, Pclass_3)\n28  0.057416  (Survived, Sex_female, Age_27, Pclass_3)",
      "text/html": "<div>\n<style scoped>\n    .dataframe tbody tr th:only-of-type {\n        vertical-align: middle;\n    }\n\n    .dataframe tbody tr th {\n        vertical-align: top;\n    }\n\n    .dataframe thead th {\n        text-align: right;\n    }\n</style>\n<table border=\"1\" class=\"dataframe\">\n  <thead>\n    <tr style=\"text-align: right;\">\n      <th></th>\n      <th>support</th>\n      <th>itemsets</th>\n    </tr>\n  </thead>\n  <tbody>\n    <tr>\n      <th>0</th>\n      <td>0.363636</td>\n      <td>(Survived)</td>\n    </tr>\n    <tr>\n      <th>1</th>\n      <td>0.234450</td>\n      <td>(Age_27)</td>\n    </tr>\n    <tr>\n      <th>2</th>\n      <td>0.255981</td>\n      <td>(Pclass_1)</td>\n    </tr>\n    <tr>\n      <th>3</th>\n      <td>0.222488</td>\n      <td>(Pclass_2)</td>\n    </tr>\n    <tr>\n      <th>4</th>\n      <td>0.521531</td>\n      <td>(Pclass_3)</td>\n    </tr>\n    <tr>\n      <th>5</th>\n      <td>0.363636</td>\n      <td>(Sex_female)</td>\n    </tr>\n    <tr>\n      <th>6</th>\n      <td>0.636364</td>\n      <td>(Sex_male)</td>\n    </tr>\n    <tr>\n      <th>7</th>\n      <td>0.069378</td>\n      <td>(Survived, Age_27)</td>\n    </tr>\n    <tr>\n      <th>8</th>\n      <td>0.119617</td>\n      <td>(Survived, Pclass_1)</td>\n    </tr>\n    <tr>\n      <th>9</th>\n      <td>0.071770</td>\n      <td>(Survived, Pclass_2)</td>\n    </tr>\n    <tr>\n      <th>10</th>\n      <td>0.172249</td>\n      <td>(Survived, Pclass_3)</td>\n    </tr>\n    <tr>\n      <th>11</th>\n      <td>0.363636</td>\n      <td>(Survived, Sex_female)</td>\n    </tr>\n    <tr>\n      <th>12</th>\n      <td>0.188995</td>\n      <td>(Age_27, Pclass_3)</td>\n    </tr>\n    <tr>\n      <th>13</th>\n      <td>0.069378</td>\n      <td>(Sex_female, Age_27)</td>\n    </tr>\n    <tr>\n      <th>14</th>\n      <td>0.165072</td>\n      <td>(Sex_male, Age_27)</td>\n    </tr>\n    <tr>\n      <th>15</th>\n      <td>0.119617</td>\n      <td>(Pclass_1, Sex_female)</td>\n    </tr>\n    <tr>\n      <th>16</th>\n      <td>0.136364</td>\n      <td>(Sex_male, Pclass_1)</td>\n    </tr>\n    <tr>\n      <th>17</th>\n      <td>0.071770</td>\n      <td>(Pclass_2, Sex_female)</td>\n    </tr>\n    <tr>\n      <th>18</th>\n      <td>0.150718</td>\n      <td>(Sex_male, Pclass_2)</td>\n    </tr>\n    <tr>\n      <th>19</th>\n      <td>0.172249</td>\n      <td>(Sex_female, Pclass_3)</td>\n    </tr>\n    <tr>\n      <th>20</th>\n      <td>0.349282</td>\n      <td>(Sex_male, Pclass_3)</td>\n    </tr>\n    <tr>\n      <th>21</th>\n      <td>0.057416</td>\n      <td>(Survived, Age_27, Pclass_3)</td>\n    </tr>\n    <tr>\n      <th>22</th>\n      <td>0.069378</td>\n      <td>(Survived, Sex_female, Age_27)</td>\n    </tr>\n    <tr>\n      <th>23</th>\n      <td>0.119617</td>\n      <td>(Survived, Pclass_1, Sex_female)</td>\n    </tr>\n    <tr>\n      <th>24</th>\n      <td>0.071770</td>\n      <td>(Survived, Pclass_2, Sex_female)</td>\n    </tr>\n    <tr>\n      <th>25</th>\n      <td>0.172249</td>\n      <td>(Survived, Sex_female, Pclass_3)</td>\n    </tr>\n    <tr>\n      <th>26</th>\n      <td>0.057416</td>\n      <td>(Sex_female, Age_27, Pclass_3)</td>\n    </tr>\n    <tr>\n      <th>27</th>\n      <td>0.131579</td>\n      <td>(Sex_male, Age_27, Pclass_3)</td>\n    </tr>\n    <tr>\n      <th>28</th>\n      <td>0.057416</td>\n      <td>(Survived, Sex_female, Age_27, Pclass_3)</td>\n    </tr>\n  </tbody>\n</table>\n</div>"
     },
     "execution_count": 53,
     "metadata": {},
     "output_type": "execute_result"
    }
   ],
   "source": [
    "frequent_itemsets = apriori(titanic_encoded_df, min_support=0.05, use_colnames=True)\n",
    "frequent_itemsets"
   ],
   "metadata": {
    "collapsed": false,
    "ExecuteTime": {
     "start_time": "2023-05-04T11:33:45.813323Z",
     "end_time": "2023-05-04T11:33:45.885788Z"
    }
   }
  },
  {
   "cell_type": "code",
   "execution_count": 54,
   "outputs": [
    {
     "data": {
      "text/plain": "                         antecedents                       consequents  \\\n0                         (Survived)                        (Pclass_1)   \n1                         (Pclass_1)                        (Survived)   \n2                         (Survived)                      (Sex_female)   \n3                       (Sex_female)                        (Survived)   \n4                           (Age_27)                        (Pclass_3)   \n5                         (Pclass_3)                          (Age_27)   \n6                         (Sex_male)                          (Age_27)   \n7                           (Age_27)                        (Sex_male)   \n8                         (Pclass_1)                      (Sex_female)   \n9                       (Sex_female)                        (Pclass_1)   \n10                        (Sex_male)                        (Pclass_2)   \n11                        (Pclass_2)                        (Sex_male)   \n12                        (Sex_male)                        (Pclass_3)   \n13                        (Pclass_3)                        (Sex_male)   \n14                (Survived, Age_27)                        (Pclass_3)   \n15              (Survived, Pclass_3)                          (Age_27)   \n16                          (Age_27)              (Survived, Pclass_3)   \n17                        (Pclass_3)                (Survived, Age_27)   \n18                (Survived, Age_27)                      (Sex_female)   \n19              (Sex_female, Age_27)                        (Survived)   \n20                        (Survived)              (Sex_female, Age_27)   \n21                      (Sex_female)                (Survived, Age_27)   \n22              (Survived, Pclass_1)                      (Sex_female)   \n23            (Survived, Sex_female)                        (Pclass_1)   \n24            (Pclass_1, Sex_female)                        (Survived)   \n25                        (Survived)            (Pclass_1, Sex_female)   \n26                        (Pclass_1)            (Survived, Sex_female)   \n27                      (Sex_female)              (Survived, Pclass_1)   \n28              (Survived, Pclass_2)                      (Sex_female)   \n29            (Pclass_2, Sex_female)                        (Survived)   \n30                        (Survived)            (Pclass_2, Sex_female)   \n31                      (Sex_female)              (Survived, Pclass_2)   \n32              (Survived, Pclass_3)                      (Sex_female)   \n33            (Sex_female, Pclass_3)                        (Survived)   \n34                        (Survived)            (Sex_female, Pclass_3)   \n35                      (Sex_female)              (Survived, Pclass_3)   \n36              (Sex_female, Age_27)                        (Pclass_3)   \n37            (Sex_female, Pclass_3)                          (Age_27)   \n38                          (Age_27)            (Sex_female, Pclass_3)   \n39                        (Pclass_3)              (Sex_female, Age_27)   \n40                (Sex_male, Age_27)                        (Pclass_3)   \n41              (Sex_male, Pclass_3)                          (Age_27)   \n42                (Age_27, Pclass_3)                        (Sex_male)   \n43                        (Sex_male)                (Age_27, Pclass_3)   \n44                          (Age_27)              (Sex_male, Pclass_3)   \n45                        (Pclass_3)                (Sex_male, Age_27)   \n46    (Survived, Sex_female, Age_27)                        (Pclass_3)   \n47  (Survived, Sex_female, Pclass_3)                          (Age_27)   \n48      (Survived, Age_27, Pclass_3)                      (Sex_female)   \n49    (Sex_female, Age_27, Pclass_3)                        (Survived)   \n50                (Survived, Age_27)            (Sex_female, Pclass_3)   \n51              (Survived, Pclass_3)              (Sex_female, Age_27)   \n52              (Sex_female, Age_27)              (Survived, Pclass_3)   \n53            (Sex_female, Pclass_3)                (Survived, Age_27)   \n54                        (Survived)    (Sex_female, Age_27, Pclass_3)   \n55                      (Sex_female)      (Survived, Age_27, Pclass_3)   \n56                          (Age_27)  (Survived, Sex_female, Pclass_3)   \n57                        (Pclass_3)    (Survived, Sex_female, Age_27)   \n\n    antecedent support  consequent support   support  confidence      lift  \\\n0             0.363636            0.255981  0.119617    0.328947  1.285047   \n1             0.255981            0.363636  0.119617    0.467290  1.285047   \n2             0.363636            0.363636  0.363636    1.000000  2.750000   \n3             0.363636            0.363636  0.363636    1.000000  2.750000   \n4             0.234450            0.521531  0.188995    0.806122  1.545684   \n5             0.521531            0.234450  0.188995    0.362385  1.545684   \n6             0.636364            0.234450  0.165072    0.259398  1.106414   \n7             0.234450            0.636364  0.165072    0.704082  1.106414   \n8             0.255981            0.363636  0.119617    0.467290  1.285047   \n9             0.363636            0.255981  0.119617    0.328947  1.285047   \n10            0.636364            0.222488  0.150718    0.236842  1.064516   \n11            0.222488            0.636364  0.150718    0.677419  1.064516   \n12            0.636364            0.521531  0.349282    0.548872  1.052425   \n13            0.521531            0.636364  0.349282    0.669725  1.052425   \n14            0.069378            0.521531  0.057416    0.827586  1.586840   \n15            0.172249            0.234450  0.057416    0.333333  1.421769   \n16            0.234450            0.172249  0.057416    0.244898  1.421769   \n17            0.521531            0.069378  0.057416    0.110092  1.586840   \n18            0.069378            0.363636  0.069378    1.000000  2.750000   \n19            0.069378            0.363636  0.069378    1.000000  2.750000   \n20            0.363636            0.069378  0.069378    0.190789  2.750000   \n21            0.363636            0.069378  0.069378    0.190789  2.750000   \n22            0.119617            0.363636  0.119617    1.000000  2.750000   \n23            0.363636            0.255981  0.119617    0.328947  1.285047   \n24            0.119617            0.363636  0.119617    1.000000  2.750000   \n25            0.363636            0.119617  0.119617    0.328947  2.750000   \n26            0.255981            0.363636  0.119617    0.467290  1.285047   \n27            0.363636            0.119617  0.119617    0.328947  2.750000   \n28            0.071770            0.363636  0.071770    1.000000  2.750000   \n29            0.071770            0.363636  0.071770    1.000000  2.750000   \n30            0.363636            0.071770  0.071770    0.197368  2.750000   \n31            0.363636            0.071770  0.071770    0.197368  2.750000   \n32            0.172249            0.363636  0.172249    1.000000  2.750000   \n33            0.172249            0.363636  0.172249    1.000000  2.750000   \n34            0.363636            0.172249  0.172249    0.473684  2.750000   \n35            0.363636            0.172249  0.172249    0.473684  2.750000   \n36            0.069378            0.521531  0.057416    0.827586  1.586840   \n37            0.172249            0.234450  0.057416    0.333333  1.421769   \n38            0.234450            0.172249  0.057416    0.244898  1.421769   \n39            0.521531            0.069378  0.057416    0.110092  1.586840   \n40            0.165072            0.521531  0.131579    0.797101  1.528387   \n41            0.349282            0.234450  0.131579    0.376712  1.606793   \n42            0.188995            0.636364  0.131579    0.696203  1.094033   \n43            0.636364            0.188995  0.131579    0.206767  1.094033   \n44            0.234450            0.349282  0.131579    0.561224  1.606793   \n45            0.521531            0.165072  0.131579    0.252294  1.528387   \n46            0.069378            0.521531  0.057416    0.827586  1.586840   \n47            0.172249            0.234450  0.057416    0.333333  1.421769   \n48            0.057416            0.363636  0.057416    1.000000  2.750000   \n49            0.057416            0.363636  0.057416    1.000000  2.750000   \n50            0.069378            0.172249  0.057416    0.827586  4.804598   \n51            0.172249            0.069378  0.057416    0.333333  4.804598   \n52            0.069378            0.172249  0.057416    0.827586  4.804598   \n53            0.172249            0.069378  0.057416    0.333333  4.804598   \n54            0.363636            0.057416  0.057416    0.157895  2.750000   \n55            0.363636            0.057416  0.057416    0.157895  2.750000   \n56            0.234450            0.172249  0.057416    0.244898  1.421769   \n57            0.521531            0.069378  0.057416    0.110092  1.586840   \n\n    leverage  conviction  zhangs_metric  \n0   0.026533    1.108734       0.348571  \n1   0.026533    1.194577       0.298135  \n2   0.231405         inf       1.000000  \n3   0.231405         inf       1.000000  \n4   0.066722    2.467892       0.461155  \n5   0.066722    1.200647       0.737848  \n6   0.015876    1.033687       0.264493  \n7   0.015876    1.228840       0.125634  \n8   0.026533    1.194577       0.298135  \n9   0.026533    1.108734       0.348571  \n10  0.009134    1.018809       0.166667  \n11  0.009134    1.127273       0.077949  \n12  0.017399    1.060606       0.136986  \n13  0.017399    1.101010       0.104110  \n14  0.021233    2.775120       0.397386  \n15  0.017033    1.148325       0.358382  \n16  0.017033    1.096211       0.387500  \n17  0.021233    1.045751       0.772917  \n18  0.044150         inf       0.683805  \n19  0.044150         inf       0.683805  \n20  0.044150    1.150037       1.000000  \n21  0.044150    1.150037       1.000000  \n22  0.076120         inf       0.722826  \n23  0.026533    1.108734       0.348571  \n24  0.076120         inf       0.722826  \n25  0.076120    1.311943       1.000000  \n26  0.026533    1.194577       0.298135  \n27  0.076120    1.311943       1.000000  \n28  0.045672         inf       0.685567  \n29  0.045672         inf       0.685567  \n30  0.045672    1.156483       1.000000  \n31  0.045672    1.156483       1.000000  \n32  0.109613         inf       0.768786  \n33  0.109613         inf       0.768786  \n34  0.109613    1.572727       1.000000  \n35  0.109613    1.572727       1.000000  \n36  0.021233    2.775120       0.397386  \n37  0.017033    1.148325       0.358382  \n38  0.017033    1.096211       0.387500  \n39  0.021233    1.045751       0.772917  \n40  0.045489    2.358168       0.414066  \n41  0.049690    1.228245       0.580348  \n42  0.011309    1.196970       0.105980  \n43  0.011309    1.022404       0.236364  \n44  0.049690    1.483031       0.493295  \n45  0.045489    1.116652       0.722545  \n46  0.021233    2.775120       0.397386  \n47  0.017033    1.148325       0.358382  \n48  0.036538         inf       0.675127  \n49  0.036538         inf       0.675127  \n50  0.045466    4.800957       0.850900  \n51  0.045466    1.395933       0.956647  \n52  0.045466    4.800957       0.850900  \n53  0.045466    1.395933       0.956647  \n54  0.036538    1.119318       1.000000  \n55  0.036538    1.119318       1.000000  \n56  0.017033    1.096211       0.387500  \n57  0.021233    1.045751       0.772917  ",
      "text/html": "<div>\n<style scoped>\n    .dataframe tbody tr th:only-of-type {\n        vertical-align: middle;\n    }\n\n    .dataframe tbody tr th {\n        vertical-align: top;\n    }\n\n    .dataframe thead th {\n        text-align: right;\n    }\n</style>\n<table border=\"1\" class=\"dataframe\">\n  <thead>\n    <tr style=\"text-align: right;\">\n      <th></th>\n      <th>antecedents</th>\n      <th>consequents</th>\n      <th>antecedent support</th>\n      <th>consequent support</th>\n      <th>support</th>\n      <th>confidence</th>\n      <th>lift</th>\n      <th>leverage</th>\n      <th>conviction</th>\n      <th>zhangs_metric</th>\n    </tr>\n  </thead>\n  <tbody>\n    <tr>\n      <th>0</th>\n      <td>(Survived)</td>\n      <td>(Pclass_1)</td>\n      <td>0.363636</td>\n      <td>0.255981</td>\n      <td>0.119617</td>\n      <td>0.328947</td>\n      <td>1.285047</td>\n      <td>0.026533</td>\n      <td>1.108734</td>\n      <td>0.348571</td>\n    </tr>\n    <tr>\n      <th>1</th>\n      <td>(Pclass_1)</td>\n      <td>(Survived)</td>\n      <td>0.255981</td>\n      <td>0.363636</td>\n      <td>0.119617</td>\n      <td>0.467290</td>\n      <td>1.285047</td>\n      <td>0.026533</td>\n      <td>1.194577</td>\n      <td>0.298135</td>\n    </tr>\n    <tr>\n      <th>2</th>\n      <td>(Survived)</td>\n      <td>(Sex_female)</td>\n      <td>0.363636</td>\n      <td>0.363636</td>\n      <td>0.363636</td>\n      <td>1.000000</td>\n      <td>2.750000</td>\n      <td>0.231405</td>\n      <td>inf</td>\n      <td>1.000000</td>\n    </tr>\n    <tr>\n      <th>3</th>\n      <td>(Sex_female)</td>\n      <td>(Survived)</td>\n      <td>0.363636</td>\n      <td>0.363636</td>\n      <td>0.363636</td>\n      <td>1.000000</td>\n      <td>2.750000</td>\n      <td>0.231405</td>\n      <td>inf</td>\n      <td>1.000000</td>\n    </tr>\n    <tr>\n      <th>4</th>\n      <td>(Age_27)</td>\n      <td>(Pclass_3)</td>\n      <td>0.234450</td>\n      <td>0.521531</td>\n      <td>0.188995</td>\n      <td>0.806122</td>\n      <td>1.545684</td>\n      <td>0.066722</td>\n      <td>2.467892</td>\n      <td>0.461155</td>\n    </tr>\n    <tr>\n      <th>5</th>\n      <td>(Pclass_3)</td>\n      <td>(Age_27)</td>\n      <td>0.521531</td>\n      <td>0.234450</td>\n      <td>0.188995</td>\n      <td>0.362385</td>\n      <td>1.545684</td>\n      <td>0.066722</td>\n      <td>1.200647</td>\n      <td>0.737848</td>\n    </tr>\n    <tr>\n      <th>6</th>\n      <td>(Sex_male)</td>\n      <td>(Age_27)</td>\n      <td>0.636364</td>\n      <td>0.234450</td>\n      <td>0.165072</td>\n      <td>0.259398</td>\n      <td>1.106414</td>\n      <td>0.015876</td>\n      <td>1.033687</td>\n      <td>0.264493</td>\n    </tr>\n    <tr>\n      <th>7</th>\n      <td>(Age_27)</td>\n      <td>(Sex_male)</td>\n      <td>0.234450</td>\n      <td>0.636364</td>\n      <td>0.165072</td>\n      <td>0.704082</td>\n      <td>1.106414</td>\n      <td>0.015876</td>\n      <td>1.228840</td>\n      <td>0.125634</td>\n    </tr>\n    <tr>\n      <th>8</th>\n      <td>(Pclass_1)</td>\n      <td>(Sex_female)</td>\n      <td>0.255981</td>\n      <td>0.363636</td>\n      <td>0.119617</td>\n      <td>0.467290</td>\n      <td>1.285047</td>\n      <td>0.026533</td>\n      <td>1.194577</td>\n      <td>0.298135</td>\n    </tr>\n    <tr>\n      <th>9</th>\n      <td>(Sex_female)</td>\n      <td>(Pclass_1)</td>\n      <td>0.363636</td>\n      <td>0.255981</td>\n      <td>0.119617</td>\n      <td>0.328947</td>\n      <td>1.285047</td>\n      <td>0.026533</td>\n      <td>1.108734</td>\n      <td>0.348571</td>\n    </tr>\n    <tr>\n      <th>10</th>\n      <td>(Sex_male)</td>\n      <td>(Pclass_2)</td>\n      <td>0.636364</td>\n      <td>0.222488</td>\n      <td>0.150718</td>\n      <td>0.236842</td>\n      <td>1.064516</td>\n      <td>0.009134</td>\n      <td>1.018809</td>\n      <td>0.166667</td>\n    </tr>\n    <tr>\n      <th>11</th>\n      <td>(Pclass_2)</td>\n      <td>(Sex_male)</td>\n      <td>0.222488</td>\n      <td>0.636364</td>\n      <td>0.150718</td>\n      <td>0.677419</td>\n      <td>1.064516</td>\n      <td>0.009134</td>\n      <td>1.127273</td>\n      <td>0.077949</td>\n    </tr>\n    <tr>\n      <th>12</th>\n      <td>(Sex_male)</td>\n      <td>(Pclass_3)</td>\n      <td>0.636364</td>\n      <td>0.521531</td>\n      <td>0.349282</td>\n      <td>0.548872</td>\n      <td>1.052425</td>\n      <td>0.017399</td>\n      <td>1.060606</td>\n      <td>0.136986</td>\n    </tr>\n    <tr>\n      <th>13</th>\n      <td>(Pclass_3)</td>\n      <td>(Sex_male)</td>\n      <td>0.521531</td>\n      <td>0.636364</td>\n      <td>0.349282</td>\n      <td>0.669725</td>\n      <td>1.052425</td>\n      <td>0.017399</td>\n      <td>1.101010</td>\n      <td>0.104110</td>\n    </tr>\n    <tr>\n      <th>14</th>\n      <td>(Survived, Age_27)</td>\n      <td>(Pclass_3)</td>\n      <td>0.069378</td>\n      <td>0.521531</td>\n      <td>0.057416</td>\n      <td>0.827586</td>\n      <td>1.586840</td>\n      <td>0.021233</td>\n      <td>2.775120</td>\n      <td>0.397386</td>\n    </tr>\n    <tr>\n      <th>15</th>\n      <td>(Survived, Pclass_3)</td>\n      <td>(Age_27)</td>\n      <td>0.172249</td>\n      <td>0.234450</td>\n      <td>0.057416</td>\n      <td>0.333333</td>\n      <td>1.421769</td>\n      <td>0.017033</td>\n      <td>1.148325</td>\n      <td>0.358382</td>\n    </tr>\n    <tr>\n      <th>16</th>\n      <td>(Age_27)</td>\n      <td>(Survived, Pclass_3)</td>\n      <td>0.234450</td>\n      <td>0.172249</td>\n      <td>0.057416</td>\n      <td>0.244898</td>\n      <td>1.421769</td>\n      <td>0.017033</td>\n      <td>1.096211</td>\n      <td>0.387500</td>\n    </tr>\n    <tr>\n      <th>17</th>\n      <td>(Pclass_3)</td>\n      <td>(Survived, Age_27)</td>\n      <td>0.521531</td>\n      <td>0.069378</td>\n      <td>0.057416</td>\n      <td>0.110092</td>\n      <td>1.586840</td>\n      <td>0.021233</td>\n      <td>1.045751</td>\n      <td>0.772917</td>\n    </tr>\n    <tr>\n      <th>18</th>\n      <td>(Survived, Age_27)</td>\n      <td>(Sex_female)</td>\n      <td>0.069378</td>\n      <td>0.363636</td>\n      <td>0.069378</td>\n      <td>1.000000</td>\n      <td>2.750000</td>\n      <td>0.044150</td>\n      <td>inf</td>\n      <td>0.683805</td>\n    </tr>\n    <tr>\n      <th>19</th>\n      <td>(Sex_female, Age_27)</td>\n      <td>(Survived)</td>\n      <td>0.069378</td>\n      <td>0.363636</td>\n      <td>0.069378</td>\n      <td>1.000000</td>\n      <td>2.750000</td>\n      <td>0.044150</td>\n      <td>inf</td>\n      <td>0.683805</td>\n    </tr>\n    <tr>\n      <th>20</th>\n      <td>(Survived)</td>\n      <td>(Sex_female, Age_27)</td>\n      <td>0.363636</td>\n      <td>0.069378</td>\n      <td>0.069378</td>\n      <td>0.190789</td>\n      <td>2.750000</td>\n      <td>0.044150</td>\n      <td>1.150037</td>\n      <td>1.000000</td>\n    </tr>\n    <tr>\n      <th>21</th>\n      <td>(Sex_female)</td>\n      <td>(Survived, Age_27)</td>\n      <td>0.363636</td>\n      <td>0.069378</td>\n      <td>0.069378</td>\n      <td>0.190789</td>\n      <td>2.750000</td>\n      <td>0.044150</td>\n      <td>1.150037</td>\n      <td>1.000000</td>\n    </tr>\n    <tr>\n      <th>22</th>\n      <td>(Survived, Pclass_1)</td>\n      <td>(Sex_female)</td>\n      <td>0.119617</td>\n      <td>0.363636</td>\n      <td>0.119617</td>\n      <td>1.000000</td>\n      <td>2.750000</td>\n      <td>0.076120</td>\n      <td>inf</td>\n      <td>0.722826</td>\n    </tr>\n    <tr>\n      <th>23</th>\n      <td>(Survived, Sex_female)</td>\n      <td>(Pclass_1)</td>\n      <td>0.363636</td>\n      <td>0.255981</td>\n      <td>0.119617</td>\n      <td>0.328947</td>\n      <td>1.285047</td>\n      <td>0.026533</td>\n      <td>1.108734</td>\n      <td>0.348571</td>\n    </tr>\n    <tr>\n      <th>24</th>\n      <td>(Pclass_1, Sex_female)</td>\n      <td>(Survived)</td>\n      <td>0.119617</td>\n      <td>0.363636</td>\n      <td>0.119617</td>\n      <td>1.000000</td>\n      <td>2.750000</td>\n      <td>0.076120</td>\n      <td>inf</td>\n      <td>0.722826</td>\n    </tr>\n    <tr>\n      <th>25</th>\n      <td>(Survived)</td>\n      <td>(Pclass_1, Sex_female)</td>\n      <td>0.363636</td>\n      <td>0.119617</td>\n      <td>0.119617</td>\n      <td>0.328947</td>\n      <td>2.750000</td>\n      <td>0.076120</td>\n      <td>1.311943</td>\n      <td>1.000000</td>\n    </tr>\n    <tr>\n      <th>26</th>\n      <td>(Pclass_1)</td>\n      <td>(Survived, Sex_female)</td>\n      <td>0.255981</td>\n      <td>0.363636</td>\n      <td>0.119617</td>\n      <td>0.467290</td>\n      <td>1.285047</td>\n      <td>0.026533</td>\n      <td>1.194577</td>\n      <td>0.298135</td>\n    </tr>\n    <tr>\n      <th>27</th>\n      <td>(Sex_female)</td>\n      <td>(Survived, Pclass_1)</td>\n      <td>0.363636</td>\n      <td>0.119617</td>\n      <td>0.119617</td>\n      <td>0.328947</td>\n      <td>2.750000</td>\n      <td>0.076120</td>\n      <td>1.311943</td>\n      <td>1.000000</td>\n    </tr>\n    <tr>\n      <th>28</th>\n      <td>(Survived, Pclass_2)</td>\n      <td>(Sex_female)</td>\n      <td>0.071770</td>\n      <td>0.363636</td>\n      <td>0.071770</td>\n      <td>1.000000</td>\n      <td>2.750000</td>\n      <td>0.045672</td>\n      <td>inf</td>\n      <td>0.685567</td>\n    </tr>\n    <tr>\n      <th>29</th>\n      <td>(Pclass_2, Sex_female)</td>\n      <td>(Survived)</td>\n      <td>0.071770</td>\n      <td>0.363636</td>\n      <td>0.071770</td>\n      <td>1.000000</td>\n      <td>2.750000</td>\n      <td>0.045672</td>\n      <td>inf</td>\n      <td>0.685567</td>\n    </tr>\n    <tr>\n      <th>30</th>\n      <td>(Survived)</td>\n      <td>(Pclass_2, Sex_female)</td>\n      <td>0.363636</td>\n      <td>0.071770</td>\n      <td>0.071770</td>\n      <td>0.197368</td>\n      <td>2.750000</td>\n      <td>0.045672</td>\n      <td>1.156483</td>\n      <td>1.000000</td>\n    </tr>\n    <tr>\n      <th>31</th>\n      <td>(Sex_female)</td>\n      <td>(Survived, Pclass_2)</td>\n      <td>0.363636</td>\n      <td>0.071770</td>\n      <td>0.071770</td>\n      <td>0.197368</td>\n      <td>2.750000</td>\n      <td>0.045672</td>\n      <td>1.156483</td>\n      <td>1.000000</td>\n    </tr>\n    <tr>\n      <th>32</th>\n      <td>(Survived, Pclass_3)</td>\n      <td>(Sex_female)</td>\n      <td>0.172249</td>\n      <td>0.363636</td>\n      <td>0.172249</td>\n      <td>1.000000</td>\n      <td>2.750000</td>\n      <td>0.109613</td>\n      <td>inf</td>\n      <td>0.768786</td>\n    </tr>\n    <tr>\n      <th>33</th>\n      <td>(Sex_female, Pclass_3)</td>\n      <td>(Survived)</td>\n      <td>0.172249</td>\n      <td>0.363636</td>\n      <td>0.172249</td>\n      <td>1.000000</td>\n      <td>2.750000</td>\n      <td>0.109613</td>\n      <td>inf</td>\n      <td>0.768786</td>\n    </tr>\n    <tr>\n      <th>34</th>\n      <td>(Survived)</td>\n      <td>(Sex_female, Pclass_3)</td>\n      <td>0.363636</td>\n      <td>0.172249</td>\n      <td>0.172249</td>\n      <td>0.473684</td>\n      <td>2.750000</td>\n      <td>0.109613</td>\n      <td>1.572727</td>\n      <td>1.000000</td>\n    </tr>\n    <tr>\n      <th>35</th>\n      <td>(Sex_female)</td>\n      <td>(Survived, Pclass_3)</td>\n      <td>0.363636</td>\n      <td>0.172249</td>\n      <td>0.172249</td>\n      <td>0.473684</td>\n      <td>2.750000</td>\n      <td>0.109613</td>\n      <td>1.572727</td>\n      <td>1.000000</td>\n    </tr>\n    <tr>\n      <th>36</th>\n      <td>(Sex_female, Age_27)</td>\n      <td>(Pclass_3)</td>\n      <td>0.069378</td>\n      <td>0.521531</td>\n      <td>0.057416</td>\n      <td>0.827586</td>\n      <td>1.586840</td>\n      <td>0.021233</td>\n      <td>2.775120</td>\n      <td>0.397386</td>\n    </tr>\n    <tr>\n      <th>37</th>\n      <td>(Sex_female, Pclass_3)</td>\n      <td>(Age_27)</td>\n      <td>0.172249</td>\n      <td>0.234450</td>\n      <td>0.057416</td>\n      <td>0.333333</td>\n      <td>1.421769</td>\n      <td>0.017033</td>\n      <td>1.148325</td>\n      <td>0.358382</td>\n    </tr>\n    <tr>\n      <th>38</th>\n      <td>(Age_27)</td>\n      <td>(Sex_female, Pclass_3)</td>\n      <td>0.234450</td>\n      <td>0.172249</td>\n      <td>0.057416</td>\n      <td>0.244898</td>\n      <td>1.421769</td>\n      <td>0.017033</td>\n      <td>1.096211</td>\n      <td>0.387500</td>\n    </tr>\n    <tr>\n      <th>39</th>\n      <td>(Pclass_3)</td>\n      <td>(Sex_female, Age_27)</td>\n      <td>0.521531</td>\n      <td>0.069378</td>\n      <td>0.057416</td>\n      <td>0.110092</td>\n      <td>1.586840</td>\n      <td>0.021233</td>\n      <td>1.045751</td>\n      <td>0.772917</td>\n    </tr>\n    <tr>\n      <th>40</th>\n      <td>(Sex_male, Age_27)</td>\n      <td>(Pclass_3)</td>\n      <td>0.165072</td>\n      <td>0.521531</td>\n      <td>0.131579</td>\n      <td>0.797101</td>\n      <td>1.528387</td>\n      <td>0.045489</td>\n      <td>2.358168</td>\n      <td>0.414066</td>\n    </tr>\n    <tr>\n      <th>41</th>\n      <td>(Sex_male, Pclass_3)</td>\n      <td>(Age_27)</td>\n      <td>0.349282</td>\n      <td>0.234450</td>\n      <td>0.131579</td>\n      <td>0.376712</td>\n      <td>1.606793</td>\n      <td>0.049690</td>\n      <td>1.228245</td>\n      <td>0.580348</td>\n    </tr>\n    <tr>\n      <th>42</th>\n      <td>(Age_27, Pclass_3)</td>\n      <td>(Sex_male)</td>\n      <td>0.188995</td>\n      <td>0.636364</td>\n      <td>0.131579</td>\n      <td>0.696203</td>\n      <td>1.094033</td>\n      <td>0.011309</td>\n      <td>1.196970</td>\n      <td>0.105980</td>\n    </tr>\n    <tr>\n      <th>43</th>\n      <td>(Sex_male)</td>\n      <td>(Age_27, Pclass_3)</td>\n      <td>0.636364</td>\n      <td>0.188995</td>\n      <td>0.131579</td>\n      <td>0.206767</td>\n      <td>1.094033</td>\n      <td>0.011309</td>\n      <td>1.022404</td>\n      <td>0.236364</td>\n    </tr>\n    <tr>\n      <th>44</th>\n      <td>(Age_27)</td>\n      <td>(Sex_male, Pclass_3)</td>\n      <td>0.234450</td>\n      <td>0.349282</td>\n      <td>0.131579</td>\n      <td>0.561224</td>\n      <td>1.606793</td>\n      <td>0.049690</td>\n      <td>1.483031</td>\n      <td>0.493295</td>\n    </tr>\n    <tr>\n      <th>45</th>\n      <td>(Pclass_3)</td>\n      <td>(Sex_male, Age_27)</td>\n      <td>0.521531</td>\n      <td>0.165072</td>\n      <td>0.131579</td>\n      <td>0.252294</td>\n      <td>1.528387</td>\n      <td>0.045489</td>\n      <td>1.116652</td>\n      <td>0.722545</td>\n    </tr>\n    <tr>\n      <th>46</th>\n      <td>(Survived, Sex_female, Age_27)</td>\n      <td>(Pclass_3)</td>\n      <td>0.069378</td>\n      <td>0.521531</td>\n      <td>0.057416</td>\n      <td>0.827586</td>\n      <td>1.586840</td>\n      <td>0.021233</td>\n      <td>2.775120</td>\n      <td>0.397386</td>\n    </tr>\n    <tr>\n      <th>47</th>\n      <td>(Survived, Sex_female, Pclass_3)</td>\n      <td>(Age_27)</td>\n      <td>0.172249</td>\n      <td>0.234450</td>\n      <td>0.057416</td>\n      <td>0.333333</td>\n      <td>1.421769</td>\n      <td>0.017033</td>\n      <td>1.148325</td>\n      <td>0.358382</td>\n    </tr>\n    <tr>\n      <th>48</th>\n      <td>(Survived, Age_27, Pclass_3)</td>\n      <td>(Sex_female)</td>\n      <td>0.057416</td>\n      <td>0.363636</td>\n      <td>0.057416</td>\n      <td>1.000000</td>\n      <td>2.750000</td>\n      <td>0.036538</td>\n      <td>inf</td>\n      <td>0.675127</td>\n    </tr>\n    <tr>\n      <th>49</th>\n      <td>(Sex_female, Age_27, Pclass_3)</td>\n      <td>(Survived)</td>\n      <td>0.057416</td>\n      <td>0.363636</td>\n      <td>0.057416</td>\n      <td>1.000000</td>\n      <td>2.750000</td>\n      <td>0.036538</td>\n      <td>inf</td>\n      <td>0.675127</td>\n    </tr>\n    <tr>\n      <th>50</th>\n      <td>(Survived, Age_27)</td>\n      <td>(Sex_female, Pclass_3)</td>\n      <td>0.069378</td>\n      <td>0.172249</td>\n      <td>0.057416</td>\n      <td>0.827586</td>\n      <td>4.804598</td>\n      <td>0.045466</td>\n      <td>4.800957</td>\n      <td>0.850900</td>\n    </tr>\n    <tr>\n      <th>51</th>\n      <td>(Survived, Pclass_3)</td>\n      <td>(Sex_female, Age_27)</td>\n      <td>0.172249</td>\n      <td>0.069378</td>\n      <td>0.057416</td>\n      <td>0.333333</td>\n      <td>4.804598</td>\n      <td>0.045466</td>\n      <td>1.395933</td>\n      <td>0.956647</td>\n    </tr>\n    <tr>\n      <th>52</th>\n      <td>(Sex_female, Age_27)</td>\n      <td>(Survived, Pclass_3)</td>\n      <td>0.069378</td>\n      <td>0.172249</td>\n      <td>0.057416</td>\n      <td>0.827586</td>\n      <td>4.804598</td>\n      <td>0.045466</td>\n      <td>4.800957</td>\n      <td>0.850900</td>\n    </tr>\n    <tr>\n      <th>53</th>\n      <td>(Sex_female, Pclass_3)</td>\n      <td>(Survived, Age_27)</td>\n      <td>0.172249</td>\n      <td>0.069378</td>\n      <td>0.057416</td>\n      <td>0.333333</td>\n      <td>4.804598</td>\n      <td>0.045466</td>\n      <td>1.395933</td>\n      <td>0.956647</td>\n    </tr>\n    <tr>\n      <th>54</th>\n      <td>(Survived)</td>\n      <td>(Sex_female, Age_27, Pclass_3)</td>\n      <td>0.363636</td>\n      <td>0.057416</td>\n      <td>0.057416</td>\n      <td>0.157895</td>\n      <td>2.750000</td>\n      <td>0.036538</td>\n      <td>1.119318</td>\n      <td>1.000000</td>\n    </tr>\n    <tr>\n      <th>55</th>\n      <td>(Sex_female)</td>\n      <td>(Survived, Age_27, Pclass_3)</td>\n      <td>0.363636</td>\n      <td>0.057416</td>\n      <td>0.057416</td>\n      <td>0.157895</td>\n      <td>2.750000</td>\n      <td>0.036538</td>\n      <td>1.119318</td>\n      <td>1.000000</td>\n    </tr>\n    <tr>\n      <th>56</th>\n      <td>(Age_27)</td>\n      <td>(Survived, Sex_female, Pclass_3)</td>\n      <td>0.234450</td>\n      <td>0.172249</td>\n      <td>0.057416</td>\n      <td>0.244898</td>\n      <td>1.421769</td>\n      <td>0.017033</td>\n      <td>1.096211</td>\n      <td>0.387500</td>\n    </tr>\n    <tr>\n      <th>57</th>\n      <td>(Pclass_3)</td>\n      <td>(Survived, Sex_female, Age_27)</td>\n      <td>0.521531</td>\n      <td>0.069378</td>\n      <td>0.057416</td>\n      <td>0.110092</td>\n      <td>1.586840</td>\n      <td>0.021233</td>\n      <td>1.045751</td>\n      <td>0.772917</td>\n    </tr>\n  </tbody>\n</table>\n</div>"
     },
     "execution_count": 54,
     "metadata": {},
     "output_type": "execute_result"
    }
   ],
   "source": [
    "rules = association_rules(frequent_itemsets, metric=\"lift\", min_threshold=1)\n",
    "rules"
   ],
   "metadata": {
    "collapsed": false,
    "ExecuteTime": {
     "start_time": "2023-05-04T11:34:52.122916Z",
     "end_time": "2023-05-04T11:34:52.204285Z"
    }
   }
  },
  {
   "cell_type": "code",
   "execution_count": 55,
   "outputs": [],
   "source": [
    "#Making two datasets\n",
    "\n",
    "X = data.drop(['Survived'], axis='columns')\n",
    "Y = data.Survived"
   ],
   "metadata": {
    "collapsed": false,
    "ExecuteTime": {
     "start_time": "2023-05-04T11:35:01.027287Z",
     "end_time": "2023-05-04T11:35:01.044683Z"
    }
   }
  },
  {
   "cell_type": "code",
   "execution_count": 56,
   "outputs": [
    {
     "data": {
      "text/plain": "   female  male\n0       0     1\n1       1     0\n2       0     1\n3       0     1\n4       1     0",
      "text/html": "<div>\n<style scoped>\n    .dataframe tbody tr th:only-of-type {\n        vertical-align: middle;\n    }\n\n    .dataframe tbody tr th {\n        vertical-align: top;\n    }\n\n    .dataframe thead th {\n        text-align: right;\n    }\n</style>\n<table border=\"1\" class=\"dataframe\">\n  <thead>\n    <tr style=\"text-align: right;\">\n      <th></th>\n      <th>female</th>\n      <th>male</th>\n    </tr>\n  </thead>\n  <tbody>\n    <tr>\n      <th>0</th>\n      <td>0</td>\n      <td>1</td>\n    </tr>\n    <tr>\n      <th>1</th>\n      <td>1</td>\n      <td>0</td>\n    </tr>\n    <tr>\n      <th>2</th>\n      <td>0</td>\n      <td>1</td>\n    </tr>\n    <tr>\n      <th>3</th>\n      <td>0</td>\n      <td>1</td>\n    </tr>\n    <tr>\n      <th>4</th>\n      <td>1</td>\n      <td>0</td>\n    </tr>\n  </tbody>\n</table>\n</div>"
     },
     "execution_count": 56,
     "metadata": {},
     "output_type": "execute_result"
    }
   ],
   "source": [
    "# Encoding gender\n",
    "\n",
    "encode_gender = pd.get_dummies(X.Sex)\n",
    "encode_gender.head()"
   ],
   "metadata": {
    "collapsed": false,
    "ExecuteTime": {
     "start_time": "2023-05-04T11:35:03.634169Z",
     "end_time": "2023-05-04T11:35:03.673088Z"
    }
   }
  },
  {
   "cell_type": "code",
   "execution_count": 57,
   "outputs": [],
   "source": [
    "# Concatenating it in main Data File\n",
    "\n",
    "X = pd.concat([X,encode_gender], axis='columns')"
   ],
   "metadata": {
    "collapsed": false,
    "ExecuteTime": {
     "start_time": "2023-05-04T11:35:09.300739Z",
     "end_time": "2023-05-04T11:35:09.314140Z"
    }
   }
  },
  {
   "cell_type": "code",
   "execution_count": 58,
   "outputs": [
    {
     "data": {
      "text/plain": "   Pclass     Sex  Age  female  male\n0       3    male   34       0     1\n1       3  female   47       1     0\n2       2    male   62       0     1\n3       3    male   27       0     1\n4       3  female   22       1     0",
      "text/html": "<div>\n<style scoped>\n    .dataframe tbody tr th:only-of-type {\n        vertical-align: middle;\n    }\n\n    .dataframe tbody tr th {\n        vertical-align: top;\n    }\n\n    .dataframe thead th {\n        text-align: right;\n    }\n</style>\n<table border=\"1\" class=\"dataframe\">\n  <thead>\n    <tr style=\"text-align: right;\">\n      <th></th>\n      <th>Pclass</th>\n      <th>Sex</th>\n      <th>Age</th>\n      <th>female</th>\n      <th>male</th>\n    </tr>\n  </thead>\n  <tbody>\n    <tr>\n      <th>0</th>\n      <td>3</td>\n      <td>male</td>\n      <td>34</td>\n      <td>0</td>\n      <td>1</td>\n    </tr>\n    <tr>\n      <th>1</th>\n      <td>3</td>\n      <td>female</td>\n      <td>47</td>\n      <td>1</td>\n      <td>0</td>\n    </tr>\n    <tr>\n      <th>2</th>\n      <td>2</td>\n      <td>male</td>\n      <td>62</td>\n      <td>0</td>\n      <td>1</td>\n    </tr>\n    <tr>\n      <th>3</th>\n      <td>3</td>\n      <td>male</td>\n      <td>27</td>\n      <td>0</td>\n      <td>1</td>\n    </tr>\n    <tr>\n      <th>4</th>\n      <td>3</td>\n      <td>female</td>\n      <td>22</td>\n      <td>1</td>\n      <td>0</td>\n    </tr>\n  </tbody>\n</table>\n</div>"
     },
     "execution_count": 58,
     "metadata": {},
     "output_type": "execute_result"
    }
   ],
   "source": [
    "X.head()"
   ],
   "metadata": {
    "collapsed": false,
    "ExecuteTime": {
     "start_time": "2023-05-04T11:35:10.967223Z",
     "end_time": "2023-05-04T11:35:11.032323Z"
    }
   }
  },
  {
   "cell_type": "code",
   "execution_count": 59,
   "outputs": [
    {
     "data": {
      "text/plain": "     Pclass  Age  female  male\n0         3   34       0     1\n1         3   47       1     0\n2         2   62       0     1\n3         3   27       0     1\n4         3   22       1     0\n..      ...  ...     ...   ...\n413       3   27       0     1\n414       1   39       1     0\n415       3   38       0     1\n416       3   27       0     1\n417       3   27       0     1\n\n[418 rows x 4 columns]",
      "text/html": "<div>\n<style scoped>\n    .dataframe tbody tr th:only-of-type {\n        vertical-align: middle;\n    }\n\n    .dataframe tbody tr th {\n        vertical-align: top;\n    }\n\n    .dataframe thead th {\n        text-align: right;\n    }\n</style>\n<table border=\"1\" class=\"dataframe\">\n  <thead>\n    <tr style=\"text-align: right;\">\n      <th></th>\n      <th>Pclass</th>\n      <th>Age</th>\n      <th>female</th>\n      <th>male</th>\n    </tr>\n  </thead>\n  <tbody>\n    <tr>\n      <th>0</th>\n      <td>3</td>\n      <td>34</td>\n      <td>0</td>\n      <td>1</td>\n    </tr>\n    <tr>\n      <th>1</th>\n      <td>3</td>\n      <td>47</td>\n      <td>1</td>\n      <td>0</td>\n    </tr>\n    <tr>\n      <th>2</th>\n      <td>2</td>\n      <td>62</td>\n      <td>0</td>\n      <td>1</td>\n    </tr>\n    <tr>\n      <th>3</th>\n      <td>3</td>\n      <td>27</td>\n      <td>0</td>\n      <td>1</td>\n    </tr>\n    <tr>\n      <th>4</th>\n      <td>3</td>\n      <td>22</td>\n      <td>1</td>\n      <td>0</td>\n    </tr>\n    <tr>\n      <th>...</th>\n      <td>...</td>\n      <td>...</td>\n      <td>...</td>\n      <td>...</td>\n    </tr>\n    <tr>\n      <th>413</th>\n      <td>3</td>\n      <td>27</td>\n      <td>0</td>\n      <td>1</td>\n    </tr>\n    <tr>\n      <th>414</th>\n      <td>1</td>\n      <td>39</td>\n      <td>1</td>\n      <td>0</td>\n    </tr>\n    <tr>\n      <th>415</th>\n      <td>3</td>\n      <td>38</td>\n      <td>0</td>\n      <td>1</td>\n    </tr>\n    <tr>\n      <th>416</th>\n      <td>3</td>\n      <td>27</td>\n      <td>0</td>\n      <td>1</td>\n    </tr>\n    <tr>\n      <th>417</th>\n      <td>3</td>\n      <td>27</td>\n      <td>0</td>\n      <td>1</td>\n    </tr>\n  </tbody>\n</table>\n<p>418 rows × 4 columns</p>\n</div>"
     },
     "execution_count": 59,
     "metadata": {},
     "output_type": "execute_result"
    }
   ],
   "source": [
    "#Dropping sex columns\n",
    "\n",
    "X.drop(['Sex'], axis='columns', inplace=True)\n",
    "X"
   ],
   "metadata": {
    "collapsed": false,
    "ExecuteTime": {
     "start_time": "2023-05-04T11:35:17.045359Z",
     "end_time": "2023-05-04T11:35:17.064919Z"
    }
   }
  },
  {
   "cell_type": "code",
   "execution_count": 60,
   "outputs": [],
   "source": [
    "# Splitting the data\n",
    "\n",
    "from sklearn.model_selection import train_test_split"
   ],
   "metadata": {
    "collapsed": false,
    "ExecuteTime": {
     "start_time": "2023-05-04T11:35:24.694444Z",
     "end_time": "2023-05-04T11:35:24.702756Z"
    }
   }
  },
  {
   "cell_type": "code",
   "execution_count": 61,
   "outputs": [],
   "source": [
    "X_Train, X_Test, Y_Train, Y_Test = train_test_split(X, Y, test_size=0.2)"
   ],
   "metadata": {
    "collapsed": false,
    "ExecuteTime": {
     "start_time": "2023-05-04T11:35:26.054226Z",
     "end_time": "2023-05-04T11:35:26.074539Z"
    }
   }
  },
  {
   "cell_type": "code",
   "execution_count": 62,
   "outputs": [],
   "source": [
    "# Using Naive Bayes Classification\n",
    "\n",
    "from sklearn.naive_bayes import GaussianNB\n",
    "model = GaussianNB()"
   ],
   "metadata": {
    "collapsed": false,
    "ExecuteTime": {
     "start_time": "2023-05-04T11:36:06.237382Z",
     "end_time": "2023-05-04T11:36:06.244206Z"
    }
   }
  },
  {
   "cell_type": "code",
   "execution_count": 65,
   "outputs": [
    {
     "data": {
      "text/plain": "GaussianNB()",
      "text/html": "<style>#sk-container-id-1 {color: black;background-color: white;}#sk-container-id-1 pre{padding: 0;}#sk-container-id-1 div.sk-toggleable {background-color: white;}#sk-container-id-1 label.sk-toggleable__label {cursor: pointer;display: block;width: 100%;margin-bottom: 0;padding: 0.3em;box-sizing: border-box;text-align: center;}#sk-container-id-1 label.sk-toggleable__label-arrow:before {content: \"▸\";float: left;margin-right: 0.25em;color: #696969;}#sk-container-id-1 label.sk-toggleable__label-arrow:hover:before {color: black;}#sk-container-id-1 div.sk-estimator:hover label.sk-toggleable__label-arrow:before {color: black;}#sk-container-id-1 div.sk-toggleable__content {max-height: 0;max-width: 0;overflow: hidden;text-align: left;background-color: #f0f8ff;}#sk-container-id-1 div.sk-toggleable__content pre {margin: 0.2em;color: black;border-radius: 0.25em;background-color: #f0f8ff;}#sk-container-id-1 input.sk-toggleable__control:checked~div.sk-toggleable__content {max-height: 200px;max-width: 100%;overflow: auto;}#sk-container-id-1 input.sk-toggleable__control:checked~label.sk-toggleable__label-arrow:before {content: \"▾\";}#sk-container-id-1 div.sk-estimator input.sk-toggleable__control:checked~label.sk-toggleable__label {background-color: #d4ebff;}#sk-container-id-1 div.sk-label input.sk-toggleable__control:checked~label.sk-toggleable__label {background-color: #d4ebff;}#sk-container-id-1 input.sk-hidden--visually {border: 0;clip: rect(1px 1px 1px 1px);clip: rect(1px, 1px, 1px, 1px);height: 1px;margin: -1px;overflow: hidden;padding: 0;position: absolute;width: 1px;}#sk-container-id-1 div.sk-estimator {font-family: monospace;background-color: #f0f8ff;border: 1px dotted black;border-radius: 0.25em;box-sizing: border-box;margin-bottom: 0.5em;}#sk-container-id-1 div.sk-estimator:hover {background-color: #d4ebff;}#sk-container-id-1 div.sk-parallel-item::after {content: \"\";width: 100%;border-bottom: 1px solid gray;flex-grow: 1;}#sk-container-id-1 div.sk-label:hover label.sk-toggleable__label {background-color: #d4ebff;}#sk-container-id-1 div.sk-serial::before {content: \"\";position: absolute;border-left: 1px solid gray;box-sizing: border-box;top: 0;bottom: 0;left: 50%;z-index: 0;}#sk-container-id-1 div.sk-serial {display: flex;flex-direction: column;align-items: center;background-color: white;padding-right: 0.2em;padding-left: 0.2em;position: relative;}#sk-container-id-1 div.sk-item {position: relative;z-index: 1;}#sk-container-id-1 div.sk-parallel {display: flex;align-items: stretch;justify-content: center;background-color: white;position: relative;}#sk-container-id-1 div.sk-item::before, #sk-container-id-1 div.sk-parallel-item::before {content: \"\";position: absolute;border-left: 1px solid gray;box-sizing: border-box;top: 0;bottom: 0;left: 50%;z-index: -1;}#sk-container-id-1 div.sk-parallel-item {display: flex;flex-direction: column;z-index: 1;position: relative;background-color: white;}#sk-container-id-1 div.sk-parallel-item:first-child::after {align-self: flex-end;width: 50%;}#sk-container-id-1 div.sk-parallel-item:last-child::after {align-self: flex-start;width: 50%;}#sk-container-id-1 div.sk-parallel-item:only-child::after {width: 0;}#sk-container-id-1 div.sk-dashed-wrapped {border: 1px dashed gray;margin: 0 0.4em 0.5em 0.4em;box-sizing: border-box;padding-bottom: 0.4em;background-color: white;}#sk-container-id-1 div.sk-label label {font-family: monospace;font-weight: bold;display: inline-block;line-height: 1.2em;}#sk-container-id-1 div.sk-label-container {text-align: center;}#sk-container-id-1 div.sk-container {/* jupyter's `normalize.less` sets `[hidden] { display: none; }` but bootstrap.min.css set `[hidden] { display: none !important; }` so we also need the `!important` here to be able to override the default hidden behavior on the sphinx rendered scikit-learn.org. See: https://github.com/scikit-learn/scikit-learn/issues/21755 */display: inline-block !important;position: relative;}#sk-container-id-1 div.sk-text-repr-fallback {display: none;}</style><div id=\"sk-container-id-1\" class=\"sk-top-container\"><div class=\"sk-text-repr-fallback\"><pre>GaussianNB()</pre><b>In a Jupyter environment, please rerun this cell to show the HTML representation or trust the notebook. <br />On GitHub, the HTML representation is unable to render, please try loading this page with nbviewer.org.</b></div><div class=\"sk-container\" hidden><div class=\"sk-item\"><div class=\"sk-estimator sk-toggleable\"><input class=\"sk-toggleable__control sk-hidden--visually\" id=\"sk-estimator-id-1\" type=\"checkbox\" checked><label for=\"sk-estimator-id-1\" class=\"sk-toggleable__label sk-toggleable__label-arrow\">GaussianNB</label><div class=\"sk-toggleable__content\"><pre>GaussianNB()</pre></div></div></div></div></div>"
     },
     "execution_count": 65,
     "metadata": {},
     "output_type": "execute_result"
    }
   ],
   "source": [
    "model.fit(X_Train,Y_Train)"
   ],
   "metadata": {
    "collapsed": false,
    "ExecuteTime": {
     "start_time": "2023-05-04T11:36:35.095830Z",
     "end_time": "2023-05-04T11:36:36.011982Z"
    }
   }
  },
  {
   "cell_type": "code",
   "execution_count": 66,
   "outputs": [
    {
     "data": {
      "text/plain": "1.0"
     },
     "execution_count": 66,
     "metadata": {},
     "output_type": "execute_result"
    }
   ],
   "source": [
    "model.score(X_Test,Y_Test)"
   ],
   "metadata": {
    "collapsed": false,
    "ExecuteTime": {
     "start_time": "2023-05-04T11:37:13.329537Z",
     "end_time": "2023-05-04T11:37:13.343000Z"
    }
   }
  },
  {
   "cell_type": "code",
   "execution_count": 80,
   "outputs": [
    {
     "data": {
      "text/plain": "array([1, 0, 1, 0, 1, 0, 0, 0, 0, 1, 0, 0, 0, 1, 0, 1, 0, 0, 0, 1, 1, 1,\n       1, 0, 1, 1, 1, 0, 0, 1, 0, 1, 1, 0, 1, 0, 0, 0, 0, 1, 0, 0, 0, 0,\n       1, 0, 1, 0, 1, 0, 1, 0, 0, 1, 0, 0, 1, 1, 0, 0, 1, 1, 0, 0, 1, 0,\n       1, 0, 0, 0, 0, 0, 0, 0, 1, 1, 0, 0, 0, 1, 1, 1, 1, 0], dtype=int64)"
     },
     "execution_count": 80,
     "metadata": {},
     "output_type": "execute_result"
    }
   ],
   "source": [
    "NB = model.predict(X_Test)\n",
    "NB"
   ],
   "metadata": {
    "collapsed": false,
    "ExecuteTime": {
     "start_time": "2023-05-04T11:46:51.874610Z",
     "end_time": "2023-05-04T11:46:51.918655Z"
    }
   }
  },
  {
   "cell_type": "code",
   "execution_count": 81,
   "outputs": [
    {
     "name": "stdout",
     "output_type": "stream",
     "text": [
      "Accuracy Score :  1.0\n",
      "F1 Score       :  1.0\n"
     ]
    }
   ],
   "source": [
    "print('Accuracy Score : ', accuracy_score(NB, Y_Test))\n",
    "print('F1 Score       : ', f1_score(NB, Y_Test))"
   ],
   "metadata": {
    "collapsed": false,
    "ExecuteTime": {
     "start_time": "2023-05-04T11:47:24.664559Z",
     "end_time": "2023-05-04T11:47:24.716650Z"
    }
   }
  },
  {
   "cell_type": "code",
   "execution_count": 82,
   "outputs": [
    {
     "name": "stdout",
     "output_type": "stream",
     "text": [
      "Classification report matrix : \n",
      "               precision    recall  f1-score   support\n",
      "\n",
      "           0       1.00      1.00      1.00        49\n",
      "           1       1.00      1.00      1.00        35\n",
      "\n",
      "    accuracy                           1.00        84\n",
      "   macro avg       1.00      1.00      1.00        84\n",
      "weighted avg       1.00      1.00      1.00        84\n",
      "\n"
     ]
    }
   ],
   "source": [
    "print(\"Classification report matrix : \\n\", classification_report(NB, Y_Test))"
   ],
   "metadata": {
    "collapsed": false,
    "ExecuteTime": {
     "start_time": "2023-05-04T11:47:40.016030Z",
     "end_time": "2023-05-04T11:47:40.089532Z"
    }
   }
  },
  {
   "cell_type": "code",
   "execution_count": 68,
   "outputs": [
    {
     "data": {
      "text/plain": "array([1, 0, 1, 0, 1, 0, 0, 0, 0, 1], dtype=int64)"
     },
     "execution_count": 68,
     "metadata": {},
     "output_type": "execute_result"
    }
   ],
   "source": [
    "model.predict(X_Test[:10])"
   ],
   "metadata": {
    "collapsed": false,
    "ExecuteTime": {
     "start_time": "2023-05-04T11:37:40.499337Z",
     "end_time": "2023-05-04T11:37:40.527735Z"
    }
   }
  },
  {
   "cell_type": "code",
   "execution_count": 72,
   "outputs": [],
   "source": [
    "#Decesion Tree\n",
    "\n",
    "from sklearn.tree import DecisionTreeClassifier\n",
    "dt = DecisionTreeClassifier(criterion = \"gini\", random_state=0, max_depth=3)"
   ],
   "metadata": {
    "collapsed": false,
    "ExecuteTime": {
     "start_time": "2023-05-04T11:41:33.007676Z",
     "end_time": "2023-05-04T11:41:33.283677Z"
    }
   }
  },
  {
   "cell_type": "code",
   "execution_count": 73,
   "outputs": [
    {
     "data": {
      "text/plain": "DecisionTreeClassifier(max_depth=3, random_state=0)",
      "text/html": "<style>#sk-container-id-2 {color: black;background-color: white;}#sk-container-id-2 pre{padding: 0;}#sk-container-id-2 div.sk-toggleable {background-color: white;}#sk-container-id-2 label.sk-toggleable__label {cursor: pointer;display: block;width: 100%;margin-bottom: 0;padding: 0.3em;box-sizing: border-box;text-align: center;}#sk-container-id-2 label.sk-toggleable__label-arrow:before {content: \"▸\";float: left;margin-right: 0.25em;color: #696969;}#sk-container-id-2 label.sk-toggleable__label-arrow:hover:before {color: black;}#sk-container-id-2 div.sk-estimator:hover label.sk-toggleable__label-arrow:before {color: black;}#sk-container-id-2 div.sk-toggleable__content {max-height: 0;max-width: 0;overflow: hidden;text-align: left;background-color: #f0f8ff;}#sk-container-id-2 div.sk-toggleable__content pre {margin: 0.2em;color: black;border-radius: 0.25em;background-color: #f0f8ff;}#sk-container-id-2 input.sk-toggleable__control:checked~div.sk-toggleable__content {max-height: 200px;max-width: 100%;overflow: auto;}#sk-container-id-2 input.sk-toggleable__control:checked~label.sk-toggleable__label-arrow:before {content: \"▾\";}#sk-container-id-2 div.sk-estimator input.sk-toggleable__control:checked~label.sk-toggleable__label {background-color: #d4ebff;}#sk-container-id-2 div.sk-label input.sk-toggleable__control:checked~label.sk-toggleable__label {background-color: #d4ebff;}#sk-container-id-2 input.sk-hidden--visually {border: 0;clip: rect(1px 1px 1px 1px);clip: rect(1px, 1px, 1px, 1px);height: 1px;margin: -1px;overflow: hidden;padding: 0;position: absolute;width: 1px;}#sk-container-id-2 div.sk-estimator {font-family: monospace;background-color: #f0f8ff;border: 1px dotted black;border-radius: 0.25em;box-sizing: border-box;margin-bottom: 0.5em;}#sk-container-id-2 div.sk-estimator:hover {background-color: #d4ebff;}#sk-container-id-2 div.sk-parallel-item::after {content: \"\";width: 100%;border-bottom: 1px solid gray;flex-grow: 1;}#sk-container-id-2 div.sk-label:hover label.sk-toggleable__label {background-color: #d4ebff;}#sk-container-id-2 div.sk-serial::before {content: \"\";position: absolute;border-left: 1px solid gray;box-sizing: border-box;top: 0;bottom: 0;left: 50%;z-index: 0;}#sk-container-id-2 div.sk-serial {display: flex;flex-direction: column;align-items: center;background-color: white;padding-right: 0.2em;padding-left: 0.2em;position: relative;}#sk-container-id-2 div.sk-item {position: relative;z-index: 1;}#sk-container-id-2 div.sk-parallel {display: flex;align-items: stretch;justify-content: center;background-color: white;position: relative;}#sk-container-id-2 div.sk-item::before, #sk-container-id-2 div.sk-parallel-item::before {content: \"\";position: absolute;border-left: 1px solid gray;box-sizing: border-box;top: 0;bottom: 0;left: 50%;z-index: -1;}#sk-container-id-2 div.sk-parallel-item {display: flex;flex-direction: column;z-index: 1;position: relative;background-color: white;}#sk-container-id-2 div.sk-parallel-item:first-child::after {align-self: flex-end;width: 50%;}#sk-container-id-2 div.sk-parallel-item:last-child::after {align-self: flex-start;width: 50%;}#sk-container-id-2 div.sk-parallel-item:only-child::after {width: 0;}#sk-container-id-2 div.sk-dashed-wrapped {border: 1px dashed gray;margin: 0 0.4em 0.5em 0.4em;box-sizing: border-box;padding-bottom: 0.4em;background-color: white;}#sk-container-id-2 div.sk-label label {font-family: monospace;font-weight: bold;display: inline-block;line-height: 1.2em;}#sk-container-id-2 div.sk-label-container {text-align: center;}#sk-container-id-2 div.sk-container {/* jupyter's `normalize.less` sets `[hidden] { display: none; }` but bootstrap.min.css set `[hidden] { display: none !important; }` so we also need the `!important` here to be able to override the default hidden behavior on the sphinx rendered scikit-learn.org. See: https://github.com/scikit-learn/scikit-learn/issues/21755 */display: inline-block !important;position: relative;}#sk-container-id-2 div.sk-text-repr-fallback {display: none;}</style><div id=\"sk-container-id-2\" class=\"sk-top-container\"><div class=\"sk-text-repr-fallback\"><pre>DecisionTreeClassifier(max_depth=3, random_state=0)</pre><b>In a Jupyter environment, please rerun this cell to show the HTML representation or trust the notebook. <br />On GitHub, the HTML representation is unable to render, please try loading this page with nbviewer.org.</b></div><div class=\"sk-container\" hidden><div class=\"sk-item\"><div class=\"sk-estimator sk-toggleable\"><input class=\"sk-toggleable__control sk-hidden--visually\" id=\"sk-estimator-id-2\" type=\"checkbox\" checked><label for=\"sk-estimator-id-2\" class=\"sk-toggleable__label sk-toggleable__label-arrow\">DecisionTreeClassifier</label><div class=\"sk-toggleable__content\"><pre>DecisionTreeClassifier(max_depth=3, random_state=0)</pre></div></div></div></div></div>"
     },
     "execution_count": 73,
     "metadata": {},
     "output_type": "execute_result"
    }
   ],
   "source": [
    "dt.fit(X_Train,Y_Train)"
   ],
   "metadata": {
    "collapsed": false,
    "ExecuteTime": {
     "start_time": "2023-05-04T11:42:01.027983Z",
     "end_time": "2023-05-04T11:42:01.063758Z"
    }
   }
  },
  {
   "cell_type": "code",
   "execution_count": 84,
   "outputs": [
    {
     "data": {
      "text/plain": "array([1, 0, 1, 0, 1, 0, 0, 0, 0, 1, 0, 0, 0, 1, 0, 1, 0, 0, 0, 1, 1, 1,\n       1, 0, 1, 1, 1, 0, 0, 1, 0, 1, 1, 0, 1, 0, 0, 0, 0, 1, 0, 0, 0, 0,\n       1, 0, 1, 0, 1, 0, 1, 0, 0, 1, 0, 0, 1, 1, 0, 0, 1, 1, 0, 0, 1, 0,\n       1, 0, 0, 0, 0, 0, 0, 0, 1, 1, 0, 0, 0, 1, 1, 1, 1, 0], dtype=int64)"
     },
     "execution_count": 84,
     "metadata": {},
     "output_type": "execute_result"
    }
   ],
   "source": [
    "DT = dt.predict(X_Test)\n",
    "DT"
   ],
   "metadata": {
    "collapsed": false,
    "ExecuteTime": {
     "start_time": "2023-05-04T11:56:34.189392Z",
     "end_time": "2023-05-04T11:56:34.220647Z"
    }
   }
  },
  {
   "cell_type": "code",
   "execution_count": 85,
   "outputs": [
    {
     "name": "stdout",
     "output_type": "stream",
     "text": [
      "Accuracy Score :  1.0\n",
      "F1 Score       :  1.0\n"
     ]
    }
   ],
   "source": [
    "print('Accuracy Score : ', accuracy_score(DT, Y_Test))\n",
    "print('F1 Score       : ', f1_score(DT, Y_Test))"
   ],
   "metadata": {
    "collapsed": false,
    "ExecuteTime": {
     "start_time": "2023-05-04T11:56:40.048653Z",
     "end_time": "2023-05-04T11:56:40.072336Z"
    }
   }
  },
  {
   "cell_type": "code",
   "execution_count": 86,
   "outputs": [
    {
     "name": "stdout",
     "output_type": "stream",
     "text": [
      "Classification report matrix : \n",
      "               precision    recall  f1-score   support\n",
      "\n",
      "           0       1.00      1.00      1.00        49\n",
      "           1       1.00      1.00      1.00        35\n",
      "\n",
      "    accuracy                           1.00        84\n",
      "   macro avg       1.00      1.00      1.00        84\n",
      "weighted avg       1.00      1.00      1.00        84\n",
      "\n"
     ]
    }
   ],
   "source": [
    "print(\"Classification report matrix : \\n\", classification_report(DT, Y_Test))"
   ],
   "metadata": {
    "collapsed": false,
    "ExecuteTime": {
     "start_time": "2023-05-04T11:56:43.858222Z",
     "end_time": "2023-05-04T11:56:43.873876Z"
    }
   }
  },
  {
   "cell_type": "code",
   "execution_count": 83,
   "outputs": [],
   "source": [
    "# K means Clustering\n",
    "from sklearn.neighbors import KNeighborsClassifier\n",
    "from sklearn.model_selection import cross_val_score"
   ],
   "metadata": {
    "collapsed": false,
    "ExecuteTime": {
     "start_time": "2023-05-04T11:55:35.476663Z",
     "end_time": "2023-05-04T11:55:35.522107Z"
    }
   }
  },
  {
   "cell_type": "code",
   "execution_count": 89,
   "outputs": [
    {
     "name": "stdout",
     "output_type": "stream",
     "text": [
      "Accuracy is:  0.9642857142857143\n"
     ]
    }
   ],
   "source": [
    "clf = KNeighborsClassifier(n_neighbors=3)\n",
    "\n",
    "clf.fit(X_Train,y= Y_Train)\n",
    "KM = clf.predict(X_Test)\n",
    "print(\"Accuracy is: \",accuracy_score(KM,Y_Test))"
   ],
   "metadata": {
    "collapsed": false,
    "ExecuteTime": {
     "start_time": "2023-05-04T11:57:34.840977Z",
     "end_time": "2023-05-04T11:57:34.876644Z"
    }
   }
  },
  {
   "cell_type": "code",
   "execution_count": 90,
   "outputs": [
    {
     "name": "stdout",
     "output_type": "stream",
     "text": [
      "Classification report matrix : \n",
      "               precision    recall  f1-score   support\n",
      "\n",
      "           0       0.96      0.98      0.97        48\n",
      "           1       0.97      0.94      0.96        36\n",
      "\n",
      "    accuracy                           0.96        84\n",
      "   macro avg       0.97      0.96      0.96        84\n",
      "weighted avg       0.96      0.96      0.96        84\n",
      "\n"
     ]
    }
   ],
   "source": [
    "print(\"Classification report matrix : \\n\", classification_report(KM, Y_Test))"
   ],
   "metadata": {
    "collapsed": false,
    "ExecuteTime": {
     "start_time": "2023-05-04T11:58:26.152276Z",
     "end_time": "2023-05-04T11:58:26.215232Z"
    }
   }
  }
 ],
 "metadata": {
  "kernelspec": {
   "display_name": "Python 3",
   "language": "python",
   "name": "python3"
  },
  "language_info": {
   "codemirror_mode": {
    "name": "ipython",
    "version": 2
   },
   "file_extension": ".py",
   "mimetype": "text/x-python",
   "name": "python",
   "nbconvert_exporter": "python",
   "pygments_lexer": "ipython2",
   "version": "2.7.6"
  }
 },
 "nbformat": 4,
 "nbformat_minor": 0
}
