{
 "cells": [
  {
   "cell_type": "code",
   "execution_count": 1,
   "outputs": [],
   "source": [
    "import numpy as np\n",
    "import pandas as pd\n",
    "from mlxtend.frequent_patterns import apriori, association_rules"
   ],
   "metadata": {
    "collapsed": false,
    "ExecuteTime": {
     "start_time": "2023-05-04T01:10:00.101026Z",
     "end_time": "2023-05-04T01:10:00.256606Z"
    }
   }
  },
  {
   "cell_type": "code",
   "execution_count": 2,
   "outputs": [
    {
     "data": {
      "text/plain": "<bound method NDFrame.head of        InvoiceNo StockCode                          Description  Quantity  \\\n0         536365    85123A   WHITE HANGING HEART T-LIGHT HOLDER         6   \n1         536365     71053                  WHITE METAL LANTERN         6   \n2         536365    84406B       CREAM CUPID HEARTS COAT HANGER         8   \n3         536365    84029G  KNITTED UNION FLAG HOT WATER BOTTLE         6   \n4         536365    84029E       RED WOOLLY HOTTIE WHITE HEART.         6   \n...          ...       ...                                  ...       ...   \n541904    581587     22613          PACK OF 20 SPACEBOY NAPKINS        12   \n541905    581587     22899         CHILDREN'S APRON DOLLY GIRL          6   \n541906    581587     23254        CHILDRENS CUTLERY DOLLY GIRL          4   \n541907    581587     23255      CHILDRENS CUTLERY CIRCUS PARADE         4   \n541908    581587     22138        BAKING SET 9 PIECE RETROSPOT          3   \n\n             InvoiceDate  UnitPrice  CustomerID         Country  \n0       01-12-2010 08:26       2.55     17850.0  United Kingdom  \n1       01-12-2010 08:26       3.39     17850.0  United Kingdom  \n2       01-12-2010 08:26       2.75     17850.0  United Kingdom  \n3       01-12-2010 08:26       3.39     17850.0  United Kingdom  \n4       01-12-2010 08:26       3.39     17850.0  United Kingdom  \n...                  ...        ...         ...             ...  \n541904  09-12-2011 12:50       0.85     12680.0          France  \n541905  09-12-2011 12:50       2.10     12680.0          France  \n541906  09-12-2011 12:50       4.15     12680.0          France  \n541907  09-12-2011 12:50       4.15     12680.0          France  \n541908  09-12-2011 12:50       4.95     12680.0          France  \n\n[541909 rows x 8 columns]>"
     },
     "execution_count": 2,
     "metadata": {},
     "output_type": "execute_result"
    }
   ],
   "source": [
    "data = pd.read_csv(\"online_retail.csv\")\n",
    "data.head"
   ],
   "metadata": {
    "collapsed": false,
    "ExecuteTime": {
     "start_time": "2023-05-04T01:10:07.569620Z",
     "end_time": "2023-05-04T01:10:08.135052Z"
    }
   }
  },
  {
   "cell_type": "code",
   "execution_count": 3,
   "outputs": [
    {
     "data": {
      "text/plain": "Index(['InvoiceNo', 'StockCode', 'Description', 'Quantity', 'InvoiceDate',\n       'UnitPrice', 'CustomerID', 'Country'],\n      dtype='object')"
     },
     "execution_count": 3,
     "metadata": {},
     "output_type": "execute_result"
    }
   ],
   "source": [
    "data.columns"
   ],
   "metadata": {
    "collapsed": false,
    "ExecuteTime": {
     "start_time": "2023-05-04T01:10:09.572569Z",
     "end_time": "2023-05-04T01:10:09.591215Z"
    }
   }
  },
  {
   "cell_type": "code",
   "execution_count": 4,
   "outputs": [
    {
     "data": {
      "text/plain": "array(['United Kingdom', 'France', 'Australia', 'Netherlands', 'Germany',\n       'Norway', 'EIRE', 'Switzerland', 'Spain', 'Poland', 'Portugal',\n       'Italy', 'Belgium', 'Lithuania', 'Japan', 'Iceland',\n       'Channel Islands', 'Denmark', 'Cyprus', 'Sweden', 'Austria',\n       'Israel', 'Finland', 'Bahrain', 'Greece', 'Hong Kong', 'Singapore',\n       'Lebanon', 'United Arab Emirates', 'Saudi Arabia',\n       'Czech Republic', 'Canada', 'Unspecified', 'Brazil', 'USA',\n       'European Community', 'Malta', 'RSA'], dtype=object)"
     },
     "execution_count": 4,
     "metadata": {},
     "output_type": "execute_result"
    }
   ],
   "source": [
    "data.Country.unique()"
   ],
   "metadata": {
    "collapsed": false,
    "ExecuteTime": {
     "start_time": "2023-05-04T01:10:10.855095Z",
     "end_time": "2023-05-04T01:10:10.886286Z"
    }
   }
  },
  {
   "cell_type": "code",
   "execution_count": 5,
   "outputs": [],
   "source": [
    "# Stripping extra spaces in the description\n",
    "data['Description'] = data['Description'].str.strip()\n",
    "\n",
    "# Dropping the rows without any invoice number\n",
    "data.dropna(axis = 0, subset =['InvoiceNo'], inplace = True)\n",
    "data['InvoiceNo'] = data['InvoiceNo'].astype('str')\n",
    "\n",
    "# Dropping all transactions which were done on credit\n",
    "data = data[~data['InvoiceNo'].str.contains('C')]"
   ],
   "metadata": {
    "collapsed": false,
    "ExecuteTime": {
     "start_time": "2023-05-04T01:10:12.398336Z",
     "end_time": "2023-05-04T01:10:12.937739Z"
    }
   }
  },
  {
   "cell_type": "code",
   "execution_count": 6,
   "outputs": [],
   "source": [
    "basket_UK = (data[data['Country'] ==\"United Kingdom\"]\n",
    "             .groupby(['InvoiceNo', 'Description'])['Quantity']\n",
    "             .sum().unstack().reset_index().fillna(0)\n",
    "             .set_index('InvoiceNo'))"
   ],
   "metadata": {
    "collapsed": false,
    "ExecuteTime": {
     "start_time": "2023-05-04T01:10:20.439489Z",
     "end_time": "2023-05-04T01:10:22.064679Z"
    }
   }
  },
  {
   "cell_type": "code",
   "execution_count": 7,
   "outputs": [],
   "source": [
    "def hot_encode(x):\n",
    "    if(x <= 0):\n",
    "        return 0\n",
    "    if(x >= 1):\n",
    "        return 1"
   ],
   "metadata": {
    "collapsed": false,
    "ExecuteTime": {
     "start_time": "2023-05-04T01:10:24.599265Z",
     "end_time": "2023-05-04T01:10:24.632567Z"
    }
   }
  },
  {
   "cell_type": "code",
   "execution_count": 8,
   "outputs": [],
   "source": [
    "basket_encoded = basket_UK.applymap(hot_encode)\n",
    "basket_UK = basket_encoded"
   ],
   "metadata": {
    "collapsed": false,
    "ExecuteTime": {
     "start_time": "2023-05-04T01:10:28.724113Z",
     "end_time": "2023-05-04T01:10:58.826413Z"
    }
   }
  },
  {
   "cell_type": "code",
   "execution_count": 9,
   "outputs": [
    {
     "name": "stderr",
     "output_type": "stream",
     "text": [
      "C:\\Users\\Kanna\\anaconda3\\envs\\Mini Project\\lib\\site-packages\\mlxtend\\frequent_patterns\\fpcommon.py:110: DeprecationWarning: DataFrames with non-bool types result in worse computationalperformance and their support might be discontinued in the future.Please use a DataFrame with bool type\n",
      "  warnings.warn(\n"
     ]
    },
    {
     "data": {
      "text/plain": "    support                              itemsets\n0  0.073441       (ASSORTED COLOUR BIRD ORNAMENT)\n1  0.103814             (JUMBO BAG RED RETROSPOT)\n2  0.074566             (LUNCH BAG RED RETROSPOT)\n3  0.085387                       (PARTY BUNTING)\n4  0.090261            (REGENCY CAKESTAND 3 TIER)\n5  0.116027  (WHITE HANGING HEART T-LIGHT HOLDER)",
      "text/html": "<div>\n<style scoped>\n    .dataframe tbody tr th:only-of-type {\n        vertical-align: middle;\n    }\n\n    .dataframe tbody tr th {\n        vertical-align: top;\n    }\n\n    .dataframe thead th {\n        text-align: right;\n    }\n</style>\n<table border=\"1\" class=\"dataframe\">\n  <thead>\n    <tr style=\"text-align: right;\">\n      <th></th>\n      <th>support</th>\n      <th>itemsets</th>\n    </tr>\n  </thead>\n  <tbody>\n    <tr>\n      <th>0</th>\n      <td>0.073441</td>\n      <td>(ASSORTED COLOUR BIRD ORNAMENT)</td>\n    </tr>\n    <tr>\n      <th>1</th>\n      <td>0.103814</td>\n      <td>(JUMBO BAG RED RETROSPOT)</td>\n    </tr>\n    <tr>\n      <th>2</th>\n      <td>0.074566</td>\n      <td>(LUNCH BAG RED RETROSPOT)</td>\n    </tr>\n    <tr>\n      <th>3</th>\n      <td>0.085387</td>\n      <td>(PARTY BUNTING)</td>\n    </tr>\n    <tr>\n      <th>4</th>\n      <td>0.090261</td>\n      <td>(REGENCY CAKESTAND 3 TIER)</td>\n    </tr>\n    <tr>\n      <th>5</th>\n      <td>0.116027</td>\n      <td>(WHITE HANGING HEART T-LIGHT HOLDER)</td>\n    </tr>\n  </tbody>\n</table>\n</div>"
     },
     "execution_count": 9,
     "metadata": {},
     "output_type": "execute_result"
    }
   ],
   "source": [
    "frequent_itemsets = apriori(basket_UK, min_support=0.07, use_colnames=True)\n",
    "frequent_itemsets"
   ],
   "metadata": {
    "collapsed": false,
    "ExecuteTime": {
     "start_time": "2023-05-04T01:11:02.000899Z",
     "end_time": "2023-05-04T01:11:02.531002Z"
    }
   }
  }
 ],
 "metadata": {
  "kernelspec": {
   "display_name": "Python 3",
   "language": "python",
   "name": "python3"
  },
  "language_info": {
   "codemirror_mode": {
    "name": "ipython",
    "version": 2
   },
   "file_extension": ".py",
   "mimetype": "text/x-python",
   "name": "python",
   "nbconvert_exporter": "python",
   "pygments_lexer": "ipython2",
   "version": "2.7.6"
  }
 },
 "nbformat": 4,
 "nbformat_minor": 0
}
